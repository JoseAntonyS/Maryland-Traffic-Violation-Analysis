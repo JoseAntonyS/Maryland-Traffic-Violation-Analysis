{
  "nbformat": 4,
  "nbformat_minor": 0,
  "metadata": {
    "colab": {
      "provenance": [],
      "collapsed_sections": []
    },
    "kernelspec": {
      "name": "python3",
      "display_name": "Python 3"
    },
    "accelerator": "GPU"
  },
  "cells": [
    {
      "cell_type": "markdown",
      "source": [
        "# Assignment 2"
      ],
      "metadata": {
        "id": "ORB6EXJvPpzR"
      }
    },
    {
      "cell_type": "code",
      "source": [
        "import pandas as pd\n",
        "import matplotlib.pyplot as plt\n",
        "import numpy as np\n",
        "%matplotlib inline\n"
      ],
      "metadata": {
        "id": "7uE_mTRaPtO5"
      },
      "execution_count": 121,
      "outputs": []
    },
    {
      "cell_type": "code",
      "source": [
        "data = pd.read_csv(\"/content/Traffic_Violations.csv\")"
      ],
      "metadata": {
        "colab": {
          "base_uri": "https://localhost:8080/"
        },
        "id": "A9EFt9_MwJ6u",
        "outputId": "9782e85c-82c1-4de3-c28d-36f372f006fc"
      },
      "execution_count": null,
      "outputs": [
        {
          "output_type": "stream",
          "name": "stderr",
          "text": [
            "/usr/local/lib/python3.7/dist-packages/IPython/core/interactiveshell.py:3326: DtypeWarning: Columns (26) have mixed types.Specify dtype option on import or set low_memory=False.\n",
            "  exec(code_obj, self.user_global_ns, self.user_ns)\n"
          ]
        }
      ]
    },
    {
      "cell_type": "code",
      "source": [
        "data.head()"
      ],
      "metadata": {
        "id": "tiMAftiP0KPk",
        "colab": {
          "base_uri": "https://localhost:8080/",
          "height": 699
        },
        "outputId": "04009fba-32f8-41e5-e36c-f85062641623"
      },
      "execution_count": null,
      "outputs": [
        {
          "output_type": "execute_result",
          "data": {
            "text/plain": [
              "  Date Of Stop Time Of Stop Agency  \\\n",
              "0   09/24/2013     17:11:00    MCP   \n",
              "1   08/29/2017     10:19:00    MCP   \n",
              "2   12/01/2014     12:52:00    MCP   \n",
              "3   08/29/2017     09:22:00    MCP   \n",
              "4   08/28/2017     23:41:00    MCP   \n",
              "\n",
              "                                         SubAgency  \\\n",
              "0                      3rd district, Silver Spring   \n",
              "1                           2nd district, Bethesda   \n",
              "2  6th district, Gaithersburg / Montgomery Village   \n",
              "3                      3rd district, Silver Spring   \n",
              "4  6th district, Gaithersburg / Montgomery Village   \n",
              "\n",
              "                                         Description  \\\n",
              "0  DRIVING VEHICLE ON HIGHWAY WITH SUSPENDED REGI...   \n",
              "1  DRIVER FAILURE TO OBEY PROPERLY PLACED TRAFFIC...   \n",
              "2                 FAILURE STOP AND YIELD AT THRU HWY   \n",
              "3               FAILURE YIELD RIGHT OF WAY ON U TURN   \n",
              "4  FAILURE OF DR. TO MAKE LANE CHANGE TO AVAIL. L...   \n",
              "\n",
              "                                 Location   Latitude  Longitude Accident  \\\n",
              "0                         8804 FLOWER AVE        NaN        NaN       No   \n",
              "1                   WISCONSIN AVE@ ELM ST  38.981725 -77.092757       No   \n",
              "2  CHRISTOPHER AVE/MONTGOMERY VILLAGE AVE  39.162888 -77.229088       No   \n",
              "3         CHERRY HILL RD./CALVERTON BLVD.  39.056975 -76.954633       No   \n",
              "4              355 @ SOUTH WESTLAND DRIVE        NaN        NaN       No   \n",
              "\n",
              "  Belts  ...      Charge                 Article Contributed To Accident  \\\n",
              "0    No  ...   13-401(h)  Transportation Article                      No   \n",
              "1    No  ...  21-201(a1)  Transportation Article                      No   \n",
              "2    No  ...   21-403(b)  Transportation Article                      No   \n",
              "3    No  ...   21-402(b)  Transportation Article                      No   \n",
              "4    No  ...  21-405(e1)  Transportation Article                      No   \n",
              "\n",
              "    Race Gender      Driver City Driver State DL State        Arrest Type  \\\n",
              "0  BLACK      M      TAKOMA PARK           MD       MD  A - Marked Patrol   \n",
              "1  WHITE      F  FAIRFAX STATION           VA       VA  A - Marked Patrol   \n",
              "2  BLACK      F   UPPER MARLBORO           MD       MD  A - Marked Patrol   \n",
              "3  BLACK      M  FORT WASHINGTON           MD       MD  A - Marked Patrol   \n",
              "4  WHITE      M     GAITHERSBURG           MD       MD  A - Marked Patrol   \n",
              "\n",
              "                             Geolocation  \n",
              "0                                    NaN  \n",
              "1         (38.981725, -77.0927566666667)  \n",
              "2  (39.1628883333333, -77.2290883333333)  \n",
              "3         (39.056975, -76.9546333333333)  \n",
              "4                                    NaN  \n",
              "\n",
              "[5 rows x 35 columns]"
            ],
            "text/html": [
              "\n",
              "  <div id=\"df-746882f9-f625-46f1-8843-71ba6ad75d2f\">\n",
              "    <div class=\"colab-df-container\">\n",
              "      <div>\n",
              "<style scoped>\n",
              "    .dataframe tbody tr th:only-of-type {\n",
              "        vertical-align: middle;\n",
              "    }\n",
              "\n",
              "    .dataframe tbody tr th {\n",
              "        vertical-align: top;\n",
              "    }\n",
              "\n",
              "    .dataframe thead th {\n",
              "        text-align: right;\n",
              "    }\n",
              "</style>\n",
              "<table border=\"1\" class=\"dataframe\">\n",
              "  <thead>\n",
              "    <tr style=\"text-align: right;\">\n",
              "      <th></th>\n",
              "      <th>Date Of Stop</th>\n",
              "      <th>Time Of Stop</th>\n",
              "      <th>Agency</th>\n",
              "      <th>SubAgency</th>\n",
              "      <th>Description</th>\n",
              "      <th>Location</th>\n",
              "      <th>Latitude</th>\n",
              "      <th>Longitude</th>\n",
              "      <th>Accident</th>\n",
              "      <th>Belts</th>\n",
              "      <th>...</th>\n",
              "      <th>Charge</th>\n",
              "      <th>Article</th>\n",
              "      <th>Contributed To Accident</th>\n",
              "      <th>Race</th>\n",
              "      <th>Gender</th>\n",
              "      <th>Driver City</th>\n",
              "      <th>Driver State</th>\n",
              "      <th>DL State</th>\n",
              "      <th>Arrest Type</th>\n",
              "      <th>Geolocation</th>\n",
              "    </tr>\n",
              "  </thead>\n",
              "  <tbody>\n",
              "    <tr>\n",
              "      <th>0</th>\n",
              "      <td>09/24/2013</td>\n",
              "      <td>17:11:00</td>\n",
              "      <td>MCP</td>\n",
              "      <td>3rd district, Silver Spring</td>\n",
              "      <td>DRIVING VEHICLE ON HIGHWAY WITH SUSPENDED REGI...</td>\n",
              "      <td>8804 FLOWER AVE</td>\n",
              "      <td>NaN</td>\n",
              "      <td>NaN</td>\n",
              "      <td>No</td>\n",
              "      <td>No</td>\n",
              "      <td>...</td>\n",
              "      <td>13-401(h)</td>\n",
              "      <td>Transportation Article</td>\n",
              "      <td>No</td>\n",
              "      <td>BLACK</td>\n",
              "      <td>M</td>\n",
              "      <td>TAKOMA PARK</td>\n",
              "      <td>MD</td>\n",
              "      <td>MD</td>\n",
              "      <td>A - Marked Patrol</td>\n",
              "      <td>NaN</td>\n",
              "    </tr>\n",
              "    <tr>\n",
              "      <th>1</th>\n",
              "      <td>08/29/2017</td>\n",
              "      <td>10:19:00</td>\n",
              "      <td>MCP</td>\n",
              "      <td>2nd district, Bethesda</td>\n",
              "      <td>DRIVER FAILURE TO OBEY PROPERLY PLACED TRAFFIC...</td>\n",
              "      <td>WISCONSIN AVE@ ELM ST</td>\n",
              "      <td>38.981725</td>\n",
              "      <td>-77.092757</td>\n",
              "      <td>No</td>\n",
              "      <td>No</td>\n",
              "      <td>...</td>\n",
              "      <td>21-201(a1)</td>\n",
              "      <td>Transportation Article</td>\n",
              "      <td>No</td>\n",
              "      <td>WHITE</td>\n",
              "      <td>F</td>\n",
              "      <td>FAIRFAX STATION</td>\n",
              "      <td>VA</td>\n",
              "      <td>VA</td>\n",
              "      <td>A - Marked Patrol</td>\n",
              "      <td>(38.981725, -77.0927566666667)</td>\n",
              "    </tr>\n",
              "    <tr>\n",
              "      <th>2</th>\n",
              "      <td>12/01/2014</td>\n",
              "      <td>12:52:00</td>\n",
              "      <td>MCP</td>\n",
              "      <td>6th district, Gaithersburg / Montgomery Village</td>\n",
              "      <td>FAILURE STOP AND YIELD AT THRU HWY</td>\n",
              "      <td>CHRISTOPHER AVE/MONTGOMERY VILLAGE AVE</td>\n",
              "      <td>39.162888</td>\n",
              "      <td>-77.229088</td>\n",
              "      <td>No</td>\n",
              "      <td>No</td>\n",
              "      <td>...</td>\n",
              "      <td>21-403(b)</td>\n",
              "      <td>Transportation Article</td>\n",
              "      <td>No</td>\n",
              "      <td>BLACK</td>\n",
              "      <td>F</td>\n",
              "      <td>UPPER MARLBORO</td>\n",
              "      <td>MD</td>\n",
              "      <td>MD</td>\n",
              "      <td>A - Marked Patrol</td>\n",
              "      <td>(39.1628883333333, -77.2290883333333)</td>\n",
              "    </tr>\n",
              "    <tr>\n",
              "      <th>3</th>\n",
              "      <td>08/29/2017</td>\n",
              "      <td>09:22:00</td>\n",
              "      <td>MCP</td>\n",
              "      <td>3rd district, Silver Spring</td>\n",
              "      <td>FAILURE YIELD RIGHT OF WAY ON U TURN</td>\n",
              "      <td>CHERRY HILL RD./CALVERTON BLVD.</td>\n",
              "      <td>39.056975</td>\n",
              "      <td>-76.954633</td>\n",
              "      <td>No</td>\n",
              "      <td>No</td>\n",
              "      <td>...</td>\n",
              "      <td>21-402(b)</td>\n",
              "      <td>Transportation Article</td>\n",
              "      <td>No</td>\n",
              "      <td>BLACK</td>\n",
              "      <td>M</td>\n",
              "      <td>FORT WASHINGTON</td>\n",
              "      <td>MD</td>\n",
              "      <td>MD</td>\n",
              "      <td>A - Marked Patrol</td>\n",
              "      <td>(39.056975, -76.9546333333333)</td>\n",
              "    </tr>\n",
              "    <tr>\n",
              "      <th>4</th>\n",
              "      <td>08/28/2017</td>\n",
              "      <td>23:41:00</td>\n",
              "      <td>MCP</td>\n",
              "      <td>6th district, Gaithersburg / Montgomery Village</td>\n",
              "      <td>FAILURE OF DR. TO MAKE LANE CHANGE TO AVAIL. L...</td>\n",
              "      <td>355 @ SOUTH WESTLAND DRIVE</td>\n",
              "      <td>NaN</td>\n",
              "      <td>NaN</td>\n",
              "      <td>No</td>\n",
              "      <td>No</td>\n",
              "      <td>...</td>\n",
              "      <td>21-405(e1)</td>\n",
              "      <td>Transportation Article</td>\n",
              "      <td>No</td>\n",
              "      <td>WHITE</td>\n",
              "      <td>M</td>\n",
              "      <td>GAITHERSBURG</td>\n",
              "      <td>MD</td>\n",
              "      <td>MD</td>\n",
              "      <td>A - Marked Patrol</td>\n",
              "      <td>NaN</td>\n",
              "    </tr>\n",
              "  </tbody>\n",
              "</table>\n",
              "<p>5 rows × 35 columns</p>\n",
              "</div>\n",
              "      <button class=\"colab-df-convert\" onclick=\"convertToInteractive('df-746882f9-f625-46f1-8843-71ba6ad75d2f')\"\n",
              "              title=\"Convert this dataframe to an interactive table.\"\n",
              "              style=\"display:none;\">\n",
              "        \n",
              "  <svg xmlns=\"http://www.w3.org/2000/svg\" height=\"24px\"viewBox=\"0 0 24 24\"\n",
              "       width=\"24px\">\n",
              "    <path d=\"M0 0h24v24H0V0z\" fill=\"none\"/>\n",
              "    <path d=\"M18.56 5.44l.94 2.06.94-2.06 2.06-.94-2.06-.94-.94-2.06-.94 2.06-2.06.94zm-11 1L8.5 8.5l.94-2.06 2.06-.94-2.06-.94L8.5 2.5l-.94 2.06-2.06.94zm10 10l.94 2.06.94-2.06 2.06-.94-2.06-.94-.94-2.06-.94 2.06-2.06.94z\"/><path d=\"M17.41 7.96l-1.37-1.37c-.4-.4-.92-.59-1.43-.59-.52 0-1.04.2-1.43.59L10.3 9.45l-7.72 7.72c-.78.78-.78 2.05 0 2.83L4 21.41c.39.39.9.59 1.41.59.51 0 1.02-.2 1.41-.59l7.78-7.78 2.81-2.81c.8-.78.8-2.07 0-2.86zM5.41 20L4 18.59l7.72-7.72 1.47 1.35L5.41 20z\"/>\n",
              "  </svg>\n",
              "      </button>\n",
              "      \n",
              "  <style>\n",
              "    .colab-df-container {\n",
              "      display:flex;\n",
              "      flex-wrap:wrap;\n",
              "      gap: 12px;\n",
              "    }\n",
              "\n",
              "    .colab-df-convert {\n",
              "      background-color: #E8F0FE;\n",
              "      border: none;\n",
              "      border-radius: 50%;\n",
              "      cursor: pointer;\n",
              "      display: none;\n",
              "      fill: #1967D2;\n",
              "      height: 32px;\n",
              "      padding: 0 0 0 0;\n",
              "      width: 32px;\n",
              "    }\n",
              "\n",
              "    .colab-df-convert:hover {\n",
              "      background-color: #E2EBFA;\n",
              "      box-shadow: 0px 1px 2px rgba(60, 64, 67, 0.3), 0px 1px 3px 1px rgba(60, 64, 67, 0.15);\n",
              "      fill: #174EA6;\n",
              "    }\n",
              "\n",
              "    [theme=dark] .colab-df-convert {\n",
              "      background-color: #3B4455;\n",
              "      fill: #D2E3FC;\n",
              "    }\n",
              "\n",
              "    [theme=dark] .colab-df-convert:hover {\n",
              "      background-color: #434B5C;\n",
              "      box-shadow: 0px 1px 3px 1px rgba(0, 0, 0, 0.15);\n",
              "      filter: drop-shadow(0px 1px 2px rgba(0, 0, 0, 0.3));\n",
              "      fill: #FFFFFF;\n",
              "    }\n",
              "  </style>\n",
              "\n",
              "      <script>\n",
              "        const buttonEl =\n",
              "          document.querySelector('#df-746882f9-f625-46f1-8843-71ba6ad75d2f button.colab-df-convert');\n",
              "        buttonEl.style.display =\n",
              "          google.colab.kernel.accessAllowed ? 'block' : 'none';\n",
              "\n",
              "        async function convertToInteractive(key) {\n",
              "          const element = document.querySelector('#df-746882f9-f625-46f1-8843-71ba6ad75d2f');\n",
              "          const dataTable =\n",
              "            await google.colab.kernel.invokeFunction('convertToInteractive',\n",
              "                                                     [key], {});\n",
              "          if (!dataTable) return;\n",
              "\n",
              "          const docLinkHtml = 'Like what you see? Visit the ' +\n",
              "            '<a target=\"_blank\" href=https://colab.research.google.com/notebooks/data_table.ipynb>data table notebook</a>'\n",
              "            + ' to learn more about interactive tables.';\n",
              "          element.innerHTML = '';\n",
              "          dataTable['output_type'] = 'display_data';\n",
              "          await google.colab.output.renderOutput(dataTable, element);\n",
              "          const docLink = document.createElement('div');\n",
              "          docLink.innerHTML = docLinkHtml;\n",
              "          element.appendChild(docLink);\n",
              "        }\n",
              "      </script>\n",
              "    </div>\n",
              "  </div>\n",
              "  "
            ]
          },
          "metadata": {},
          "execution_count": 3
        }
      ]
    },
    {
      "cell_type": "code",
      "source": [
        "data.info()"
      ],
      "metadata": {
        "colab": {
          "base_uri": "https://localhost:8080/"
        },
        "id": "lVmKa_IZ0cvb",
        "outputId": "7de0b304-2f3c-4c65-b7fa-c22a840f19ff"
      },
      "execution_count": null,
      "outputs": [
        {
          "output_type": "stream",
          "name": "stdout",
          "text": [
            "<class 'pandas.core.frame.DataFrame'>\n",
            "RangeIndex: 1292399 entries, 0 to 1292398\n",
            "Data columns (total 35 columns):\n",
            " #   Column                   Non-Null Count    Dtype  \n",
            "---  ------                   --------------    -----  \n",
            " 0   Date Of Stop             1292399 non-null  object \n",
            " 1   Time Of Stop             1292399 non-null  object \n",
            " 2   Agency                   1292399 non-null  object \n",
            " 3   SubAgency                1292389 non-null  object \n",
            " 4   Description              1292390 non-null  object \n",
            " 5   Location                 1292397 non-null  object \n",
            " 6   Latitude                 1197045 non-null  float64\n",
            " 7   Longitude                1197045 non-null  float64\n",
            " 8   Accident                 1292399 non-null  object \n",
            " 9   Belts                    1292399 non-null  object \n",
            " 10  Personal Injury          1292399 non-null  object \n",
            " 11  Property Damage          1292399 non-null  object \n",
            " 12  Fatal                    1292399 non-null  object \n",
            " 13  Commercial License       1292399 non-null  object \n",
            " 14  HAZMAT                   1292399 non-null  object \n",
            " 15  Commercial Vehicle       1292399 non-null  object \n",
            " 16  Alcohol                  1292399 non-null  object \n",
            " 17  Work Zone                1292399 non-null  object \n",
            " 18  State                    1292340 non-null  object \n",
            " 19  VehicleType              1292399 non-null  object \n",
            " 20  Year                     1284325 non-null  float64\n",
            " 21  Make                     1292342 non-null  object \n",
            " 22  Model                    1292212 non-null  object \n",
            " 23  Color                    1276272 non-null  object \n",
            " 24  Violation Type           1292399 non-null  object \n",
            " 25  Charge                   1292399 non-null  object \n",
            " 26  Article                  1227230 non-null  object \n",
            " 27  Contributed To Accident  1292399 non-null  object \n",
            " 28  Race                     1292399 non-null  object \n",
            " 29  Gender                   1292399 non-null  object \n",
            " 30  Driver City              1292182 non-null  object \n",
            " 31  Driver State             1292388 non-null  object \n",
            " 32  DL State                 1291470 non-null  object \n",
            " 33  Arrest Type              1292399 non-null  object \n",
            " 34  Geolocation              1197045 non-null  object \n",
            "dtypes: float64(3), object(32)\n",
            "memory usage: 345.1+ MB\n"
          ]
        }
      ]
    },
    {
      "cell_type": "code",
      "source": [
        "#get the null value count\n",
        "data.columns = data.columns.str.replace(' ', '')\n",
        "data.isna().sum()"
      ],
      "metadata": {
        "colab": {
          "base_uri": "https://localhost:8080/"
        },
        "id": "hFnBMfFI06hi",
        "outputId": "759c85bb-bb4c-4611-8cdc-baabc7ae895a"
      },
      "execution_count": null,
      "outputs": [
        {
          "output_type": "execute_result",
          "data": {
            "text/plain": [
              "DateOfStop                   0\n",
              "TimeOfStop                   0\n",
              "Agency                       0\n",
              "SubAgency                   10\n",
              "Description                  9\n",
              "Location                     2\n",
              "Latitude                 95354\n",
              "Longitude                95354\n",
              "Accident                     0\n",
              "Belts                        0\n",
              "PersonalInjury               0\n",
              "PropertyDamage               0\n",
              "Fatal                        0\n",
              "CommercialLicense            0\n",
              "HAZMAT                       0\n",
              "CommercialVehicle            0\n",
              "Alcohol                      0\n",
              "WorkZone                     0\n",
              "State                       59\n",
              "VehicleType                  0\n",
              "Year                      8074\n",
              "Make                        57\n",
              "Model                      187\n",
              "Color                    16127\n",
              "ViolationType                0\n",
              "Charge                       0\n",
              "Article                  65169\n",
              "ContributedToAccident        0\n",
              "Race                         0\n",
              "Gender                       0\n",
              "DriverCity                 217\n",
              "DriverState                 11\n",
              "DLState                    929\n",
              "ArrestType                   0\n",
              "Geolocation              95354\n",
              "dtype: int64"
            ]
          },
          "metadata": {},
          "execution_count": 5
        }
      ]
    },
    {
      "cell_type": "code",
      "source": [
        "#remove unneccessary columns\n",
        "data.drop(columns = ['Geolocation','Article','Latitude','Longitude','Description','Agency','SubAgency'], inplace=True)"
      ],
      "metadata": {
        "id": "OgzbK9WW2p42"
      },
      "execution_count": null,
      "outputs": []
    },
    {
      "cell_type": "markdown",
      "source": [
        "# **To calculate the color count**"
      ],
      "metadata": {
        "id": "QcgbbiCq47Y7"
      }
    },
    {
      "cell_type": "code",
      "source": [
        "data.dropna(subset = ['Color'], inplace = True) #remove the null values"
      ],
      "metadata": {
        "id": "2WHs5mm60lJe"
      },
      "execution_count": null,
      "outputs": []
    },
    {
      "cell_type": "code",
      "source": [
        "data['Color'].isna().sum() "
      ],
      "metadata": {
        "id": "wrdu1cbdQ87N",
        "colab": {
          "base_uri": "https://localhost:8080/"
        },
        "outputId": "06e3f3b1-d298-4fc3-9146-b29b3a0ad984"
      },
      "execution_count": null,
      "outputs": [
        {
          "output_type": "execute_result",
          "data": {
            "text/plain": [
              "0"
            ]
          },
          "metadata": {},
          "execution_count": 8
        }
      ]
    },
    {
      "cell_type": "code",
      "source": [
        "fig, ax = plt.subplots()\n",
        "fig.canvas.draw()\n",
        "data.Color.value_counts()[:5].plot(kind=\"bar\", width=0.3, figsize=(9, 5), color = [\"black\",\"silver\",\"white\",\"gray\",\"red\"])\n",
        "plt.title(\"Top 5 Colors involved in Violations\")\n",
        "plt.ylabel(\"Number of Vehicles\", fontsize=14)"
      ],
      "metadata": {
        "colab": {
          "base_uri": "https://localhost:8080/",
          "height": 376
        },
        "id": "w-Msq-bfMUMR",
        "outputId": "ff1c627b-016b-425a-aa45-f6fcdcf2e647"
      },
      "execution_count": 122,
      "outputs": [
        {
          "output_type": "execute_result",
          "data": {
            "text/plain": [
              "Text(27.125, 0.5, 'Number of Vehicles')"
            ]
          },
          "metadata": {},
          "execution_count": 122
        },
        {
          "output_type": "display_data",
          "data": {
            "text/plain": [
              "<Figure size 648x360 with 1 Axes>"
            ],
            "image/png": "[encoded data removed]"
          },
          "metadata": {
            "needs_background": "light"
          }
        }
      ]
    },
    {
      "cell_type": "code",
      "source": [
        "colordata=data.value_counts([\"Color\"]).head(10)\n",
        "print(colordata)"
      ],
      "metadata": {
        "colab": {
          "base_uri": "https://localhost:8080/"
        },
        "id": "mswCIJetB-zP",
        "outputId": "9c796edd-b0cf-47e1-e544-0b931368bc6c"
      },
      "execution_count": null,
      "outputs": [
        {
          "output_type": "stream",
          "name": "stdout",
          "text": [
            "Color     \n",
            "BLACK         259499\n",
            "SILVER        236828\n",
            "WHITE         197558\n",
            "GRAY          141092\n",
            "RED           101733\n",
            "BLUE           94814\n",
            "GREEN          49520\n",
            "GOLD           41177\n",
            "BLUE, DARK     27111\n",
            "TAN            27015\n",
            "dtype: int64\n"
          ]
        }
      ]
    },
    {
      "cell_type": "markdown",
      "source": [
        "# To find the most violated Make and Model "
      ],
      "metadata": {
        "id": "FgXyntq_nyhM"
      }
    },
    {
      "cell_type": "code",
      "source": [
        "data.dropna(subset = ['Model','Make'], inplace = True) #remove na"
      ],
      "metadata": {
        "id": "qskjp6rkMqPS"
      },
      "execution_count": null,
      "outputs": []
    },
    {
      "cell_type": "code",
      "source": [
        "print(data['Model'].isna().sum())\n",
        "print(data['Make'].isna().sum())"
      ],
      "metadata": {
        "colab": {
          "base_uri": "https://localhost:8080/"
        },
        "id": "HW7beiQgUPMN",
        "outputId": "270b8676-e2c1-46cd-bf37-dabf09ccecb7"
      },
      "execution_count": null,
      "outputs": [
        {
          "output_type": "stream",
          "name": "stdout",
          "text": [
            "0\n",
            "0\n"
          ]
        }
      ]
    },
    {
      "cell_type": "code",
      "source": [
        "#combine the redundant values\n",
        "data['Make'] = np.where(\n",
        "   (data['Make'] =='HONODA') & (data['Make'] == 'HINDA') & (data['Make'] =='HHONDA') & (data['Make'] == 'HINDA') & (data['Make'] =='HNODA') & (data['Make'] == 'HONDA1') & (data['Make'] =='HONA') & (data['Make'] == 'HOBDA'), 'HONDA', data['Make']\n",
        "   )\n",
        "\n",
        "data['Make'] = np.where(\n",
        "   (data['Make'] =='TOYOT') & (data['Make'] == '1=TOYOT') & (data['Make'] =='TOYOA') & (data['Make'] == 'TOYOOTA') & (data['Make'] =='TOYOAT') & (data['Make'] == 'TOY') & (data['Make'] =='TOYITA') & (data['Make'] == 'TOY0A'), 'TOYOTA', data['Make']\n",
        "   )"
      ],
      "metadata": {
        "id": "hwLSsM5Q3-mi"
      },
      "execution_count": null,
      "outputs": []
    },
    {
      "cell_type": "code",
      "source": [
        "#Method 2 for redundant value combining\n",
        "\n",
        "data['Make'].mask(data['Make'] == 'HOBDA', \"HONDA\", inplace=True) #replace every word in a single instance using masking"
      ],
      "metadata": {
        "id": "WG-DlVY17Ygx"
      },
      "execution_count": null,
      "outputs": []
    },
    {
      "cell_type": "code",
      "source": [
        "car_make_data=data.value_counts([\"Make\"])"
      ],
      "metadata": {
        "id": "Jy7BF7bm5K-n"
      },
      "execution_count": 92,
      "outputs": []
    },
    {
      "cell_type": "code",
      "source": [
        "car_make_data.head(4)"
      ],
      "metadata": {
        "colab": {
          "base_uri": "https://localhost:8080/"
        },
        "id": "mQ7Vw1nH8-0E",
        "outputId": "46955a7f-b6b4-4cd5-8e12-a907de406346"
      },
      "execution_count": 94,
      "outputs": [
        {
          "output_type": "execute_result",
          "data": {
            "text/plain": [
              "Make  \n",
              "TOYOTA    217695\n",
              "HONDA     137459\n",
              "FORD      120801\n",
              "NISSAN     67918\n",
              "dtype: int64"
            ]
          },
          "metadata": {},
          "execution_count": 94
        }
      ]
    },
    {
      "cell_type": "code",
      "source": [
        "fig, ax = plt.subplots()\n",
        "fig.canvas.draw()\n",
        "data.Make.value_counts()[:3].plot(kind=\"bar\", width=0.3, figsize=(9, 5), color = [\"r\",\"b\",\"g\"])\n",
        "plt.title(\"Top 3 Makes involved in Violations\")\n",
        "plt.ylabel(\"Number of Vehicles\", fontsize=14)"
      ],
      "metadata": {
        "colab": {
          "base_uri": "https://localhost:8080/",
          "height": 386
        },
        "id": "c8wRNeK8Ld9B",
        "outputId": "1a3582ab-fe12-4c4c-8f34-2e88ba25ee2f"
      },
      "execution_count": 96,
      "outputs": [
        {
          "output_type": "execute_result",
          "data": {
            "text/plain": [
              "Text(25.625, 0.5, 'Number of Vehicles')"
            ]
          },
          "metadata": {},
          "execution_count": 96
        },
        {
          "output_type": "display_data",
          "data": {
            "text/plain": [
              "<Figure size 648x360 with 1 Axes>"
            ],
            "image/png": "[encoded data removed]"
          },
          "metadata": {}
        }
      ]
    },
    {
      "cell_type": "code",
      "source": [
        "makedata=data.value_counts([\"Make\", \"Model\"])\n",
        "makedata_df=makedata.to_frame()"
      ],
      "metadata": {
        "id": "oEdQDw6SaE1S"
      },
      "execution_count": null,
      "outputs": []
    },
    {
      "cell_type": "code",
      "source": [
        "print(\"Top 5 Violated Models\")\n",
        "makedata_df.head(5)"
      ],
      "metadata": {
        "colab": {
          "base_uri": "https://localhost:8080/",
          "height": 232
        },
        "id": "A71QOBVgb4R_",
        "outputId": "8a10a562-f4ff-4875-9396-ea0c0f712bbb"
      },
      "execution_count": 120,
      "outputs": [
        {
          "output_type": "stream",
          "name": "stdout",
          "text": [
            "Top 5 Violated Models\n"
          ]
        },
        {
          "output_type": "execute_result",
          "data": {
            "text/plain": [
              "                    0\n",
              "Make   Model         \n",
              "TOYOTA CAMRY    42141\n",
              "HONDA  ACCORD   41859\n",
              "       CIVIC    39222\n",
              "TOYOTA COROLLA  37265\n",
              "       4S       27272"
            ],
            "text/html": [
              "\n",
              "  <div id=\"df-923652fa-3236-4f69-b886-e2c72a1b086d\">\n",
              "    <div class=\"colab-df-container\">\n",
              "      <div>\n",
              "<style scoped>\n",
              "    .dataframe tbody tr th:only-of-type {\n",
              "        vertical-align: middle;\n",
              "    }\n",
              "\n",
              "    .dataframe tbody tr th {\n",
              "        vertical-align: top;\n",
              "    }\n",
              "\n",
              "    .dataframe thead th {\n",
              "        text-align: right;\n",
              "    }\n",
              "</style>\n",
              "<table border=\"1\" class=\"dataframe\">\n",
              "  <thead>\n",
              "    <tr style=\"text-align: right;\">\n",
              "      <th></th>\n",
              "      <th></th>\n",
              "      <th>0</th>\n",
              "    </tr>\n",
              "    <tr>\n",
              "      <th>Make</th>\n",
              "      <th>Model</th>\n",
              "      <th></th>\n",
              "    </tr>\n",
              "  </thead>\n",
              "  <tbody>\n",
              "    <tr>\n",
              "      <th>TOYOTA</th>\n",
              "      <th>CAMRY</th>\n",
              "      <td>42141</td>\n",
              "    </tr>\n",
              "    <tr>\n",
              "      <th rowspan=\"2\" valign=\"top\">HONDA</th>\n",
              "      <th>ACCORD</th>\n",
              "      <td>41859</td>\n",
              "    </tr>\n",
              "    <tr>\n",
              "      <th>CIVIC</th>\n",
              "      <td>39222</td>\n",
              "    </tr>\n",
              "    <tr>\n",
              "      <th rowspan=\"2\" valign=\"top\">TOYOTA</th>\n",
              "      <th>COROLLA</th>\n",
              "      <td>37265</td>\n",
              "    </tr>\n",
              "    <tr>\n",
              "      <th>4S</th>\n",
              "      <td>27272</td>\n",
              "    </tr>\n",
              "  </tbody>\n",
              "</table>\n",
              "</div>\n",
              "      <button class=\"colab-df-convert\" onclick=\"convertToInteractive('df-923652fa-3236-4f69-b886-e2c72a1b086d')\"\n",
              "              title=\"Convert this dataframe to an interactive table.\"\n",
              "              style=\"display:none;\">\n",
              "        \n",
              "  <svg xmlns=\"http://www.w3.org/2000/svg\" height=\"24px\"viewBox=\"0 0 24 24\"\n",
              "       width=\"24px\">\n",
              "    <path d=\"M0 0h24v24H0V0z\" fill=\"none\"/>\n",
              "    <path d=\"M18.56 5.44l.94 2.06.94-2.06 2.06-.94-2.06-.94-.94-2.06-.94 2.06-2.06.94zm-11 1L8.5 8.5l.94-2.06 2.06-.94-2.06-.94L8.5 2.5l-.94 2.06-2.06.94zm10 10l.94 2.06.94-2.06 2.06-.94-2.06-.94-.94-2.06-.94 2.06-2.06.94z\"/><path d=\"M17.41 7.96l-1.37-1.37c-.4-.4-.92-.59-1.43-.59-.52 0-1.04.2-1.43.59L10.3 9.45l-7.72 7.72c-.78.78-.78 2.05 0 2.83L4 21.41c.39.39.9.59 1.41.59.51 0 1.02-.2 1.41-.59l7.78-7.78 2.81-2.81c.8-.78.8-2.07 0-2.86zM5.41 20L4 18.59l7.72-7.72 1.47 1.35L5.41 20z\"/>\n",
              "  </svg>\n",
              "      </button>\n",
              "      \n",
              "  <style>\n",
              "    .colab-df-container {\n",
              "      display:flex;\n",
              "      flex-wrap:wrap;\n",
              "      gap: 12px;\n",
              "    }\n",
              "\n",
              "    .colab-df-convert {\n",
              "      background-color: #E8F0FE;\n",
              "      border: none;\n",
              "      border-radius: 50%;\n",
              "      cursor: pointer;\n",
              "      display: none;\n",
              "      fill: #1967D2;\n",
              "      height: 32px;\n",
              "      padding: 0 0 0 0;\n",
              "      width: 32px;\n",
              "    }\n",
              "\n",
              "    .colab-df-convert:hover {\n",
              "      background-color: #E2EBFA;\n",
              "      box-shadow: 0px 1px 2px rgba(60, 64, 67, 0.3), 0px 1px 3px 1px rgba(60, 64, 67, 0.15);\n",
              "      fill: #174EA6;\n",
              "    }\n",
              "\n",
              "    [theme=dark] .colab-df-convert {\n",
              "      background-color: #3B4455;\n",
              "      fill: #D2E3FC;\n",
              "    }\n",
              "\n",
              "    [theme=dark] .colab-df-convert:hover {\n",
              "      background-color: #434B5C;\n",
              "      box-shadow: 0px 1px 3px 1px rgba(0, 0, 0, 0.15);\n",
              "      filter: drop-shadow(0px 1px 2px rgba(0, 0, 0, 0.3));\n",
              "      fill: #FFFFFF;\n",
              "    }\n",
              "  </style>\n",
              "\n",
              "      <script>\n",
              "        const buttonEl =\n",
              "          document.querySelector('#df-923652fa-3236-4f69-b886-e2c72a1b086d button.colab-df-convert');\n",
              "        buttonEl.style.display =\n",
              "          google.colab.kernel.accessAllowed ? 'block' : 'none';\n",
              "\n",
              "        async function convertToInteractive(key) {\n",
              "          const element = document.querySelector('#df-923652fa-3236-4f69-b886-e2c72a1b086d');\n",
              "          const dataTable =\n",
              "            await google.colab.kernel.invokeFunction('convertToInteractive',\n",
              "                                                     [key], {});\n",
              "          if (!dataTable) return;\n",
              "\n",
              "          const docLinkHtml = 'Like what you see? Visit the ' +\n",
              "            '<a target=\"_blank\" href=https://colab.research.google.com/notebooks/data_table.ipynb>data table notebook</a>'\n",
              "            + ' to learn more about interactive tables.';\n",
              "          element.innerHTML = '';\n",
              "          dataTable['output_type'] = 'display_data';\n",
              "          await google.colab.output.renderOutput(dataTable, element);\n",
              "          const docLink = document.createElement('div');\n",
              "          docLink.innerHTML = docLinkHtml;\n",
              "          element.appendChild(docLink);\n",
              "        }\n",
              "      </script>\n",
              "    </div>\n",
              "  </div>\n",
              "  "
            ]
          },
          "metadata": {},
          "execution_count": 120
        }
      ]
    },
    {
      "cell_type": "markdown",
      "source": [
        "**Racial Estimation**"
      ],
      "metadata": {
        "id": "Ue-iDv2SH7Ld"
      }
    },
    {
      "cell_type": "code",
      "source": [
        "fig, ax = plt.subplots()\n",
        "fig.canvas.draw()\n",
        "data.Race.value_counts()[:5].plot(kind=\"bar\", width=0.3, figsize=(9, 5), color = [\"#EBD3C5\",\"#492816\",\"#F1C27D\",\"#FFE39F\",\"#FFAD60\"])\n",
        "plt.title(\"Top Races involved in Violations\")\n",
        "plt.ylabel(\"Number of Violations\", fontsize=14)"
      ],
      "metadata": {
        "colab": {
          "base_uri": "https://localhost:8080/",
          "height": 394
        },
        "id": "LIVzUVVRMvC_",
        "outputId": "08ccd267-9b58-4fa7-d820-d85b012ee520"
      },
      "execution_count": 116,
      "outputs": [
        {
          "output_type": "execute_result",
          "data": {
            "text/plain": [
              "Text(25.625, 0.5, 'Number of Violations')"
            ]
          },
          "metadata": {},
          "execution_count": 116
        },
        {
          "output_type": "display_data",
          "data": {
            "text/plain": [
              "<Figure size 648x360 with 1 Axes>"
            ],
            "image/png": "[encoded data removed]"
          },
          "metadata": {}
        }
      ]
    },
    {
      "cell_type": "markdown",
      "source": [
        "**Gender Estimation**"
      ],
      "metadata": {
        "id": "FqL19qr1H_yF"
      }
    },
    {
      "cell_type": "code",
      "source": [
        "fig, ax = plt.subplots()\n",
        "fig.canvas.draw()\n",
        "data.Gender.value_counts().plot(kind=\"bar\", width=0.3, figsize=(9, 5), color = [\"blue\",\"pink\",\"black\"])\n",
        "plt.title(\"Gender based Violations\")\n",
        "plt.ylabel(\"Number of Drivers\", fontsize=14)"
      ],
      "metadata": {
        "colab": {
          "base_uri": "https://localhost:8080/",
          "height": 352
        },
        "id": "25MJI6fSQHM-",
        "outputId": "086f9b82-8688-4ee9-83c5-058fbe01ff95"
      },
      "execution_count": 119,
      "outputs": [
        {
          "output_type": "execute_result",
          "data": {
            "text/plain": [
              "Text(25.625, 0.5, 'Number of Drivers')"
            ]
          },
          "metadata": {},
          "execution_count": 119
        },
        {
          "output_type": "display_data",
          "data": {
            "text/plain": [
              "<Figure size 648x360 with 1 Axes>"
            ],
            "image/png": "[encoded data removed]"
          },
          "metadata": {}
        }
      ]
    },
    {
      "cell_type": "code",
      "source": [
        "# number of driver genders involved in the dataset\n",
        "genders = (data.pivot_table(index='Gender',columns='Gender', aggfunc='size', fill_value=0).add_prefix('Gender '))\n",
        "genders"
      ],
      "metadata": {
        "colab": {
          "base_uri": "https://localhost:8080/",
          "height": 172
        },
        "id": "IB7YH29PDxik",
        "outputId": "f89a07ed-7770-478a-e839-949ca216ee19"
      },
      "execution_count": null,
      "outputs": [
        {
          "output_type": "execute_result",
          "data": {
            "text/plain": [
              "Gender  Gender F  Gender M  Gender U\n",
              "Gender                              \n",
              "F         419613         0         0\n",
              "M              0    855085         0\n",
              "U              0         0      1431"
            ],
            "text/html": [
              "\n",
              "  <div id=\"df-c8e69042-2d9c-4851-9035-024db1eb0d9d\">\n",
              "    <div class=\"colab-df-container\">\n",
              "      <div>\n",
              "<style scoped>\n",
              "    .dataframe tbody tr th:only-of-type {\n",
              "        vertical-align: middle;\n",
              "    }\n",
              "\n",
              "    .dataframe tbody tr th {\n",
              "        vertical-align: top;\n",
              "    }\n",
              "\n",
              "    .dataframe thead th {\n",
              "        text-align: right;\n",
              "    }\n",
              "</style>\n",
              "<table border=\"1\" class=\"dataframe\">\n",
              "  <thead>\n",
              "    <tr style=\"text-align: right;\">\n",
              "      <th>Gender</th>\n",
              "      <th>Gender F</th>\n",
              "      <th>Gender M</th>\n",
              "      <th>Gender U</th>\n",
              "    </tr>\n",
              "    <tr>\n",
              "      <th>Gender</th>\n",
              "      <th></th>\n",
              "      <th></th>\n",
              "      <th></th>\n",
              "    </tr>\n",
              "  </thead>\n",
              "  <tbody>\n",
              "    <tr>\n",
              "      <th>F</th>\n",
              "      <td>419613</td>\n",
              "      <td>0</td>\n",
              "      <td>0</td>\n",
              "    </tr>\n",
              "    <tr>\n",
              "      <th>M</th>\n",
              "      <td>0</td>\n",
              "      <td>855085</td>\n",
              "      <td>0</td>\n",
              "    </tr>\n",
              "    <tr>\n",
              "      <th>U</th>\n",
              "      <td>0</td>\n",
              "      <td>0</td>\n",
              "      <td>1431</td>\n",
              "    </tr>\n",
              "  </tbody>\n",
              "</table>\n",
              "</div>\n",
              "      <button class=\"colab-df-convert\" onclick=\"convertToInteractive('df-c8e69042-2d9c-4851-9035-024db1eb0d9d')\"\n",
              "              title=\"Convert this dataframe to an interactive table.\"\n",
              "              style=\"display:none;\">\n",
              "        \n",
              "  <svg xmlns=\"http://www.w3.org/2000/svg\" height=\"24px\"viewBox=\"0 0 24 24\"\n",
              "       width=\"24px\">\n",
              "    <path d=\"M0 0h24v24H0V0z\" fill=\"none\"/>\n",
              "    <path d=\"M18.56 5.44l.94 2.06.94-2.06 2.06-.94-2.06-.94-.94-2.06-.94 2.06-2.06.94zm-11 1L8.5 8.5l.94-2.06 2.06-.94-2.06-.94L8.5 2.5l-.94 2.06-2.06.94zm10 10l.94 2.06.94-2.06 2.06-.94-2.06-.94-.94-2.06-.94 2.06-2.06.94z\"/><path d=\"M17.41 7.96l-1.37-1.37c-.4-.4-.92-.59-1.43-.59-.52 0-1.04.2-1.43.59L10.3 9.45l-7.72 7.72c-.78.78-.78 2.05 0 2.83L4 21.41c.39.39.9.59 1.41.59.51 0 1.02-.2 1.41-.59l7.78-7.78 2.81-2.81c.8-.78.8-2.07 0-2.86zM5.41 20L4 18.59l7.72-7.72 1.47 1.35L5.41 20z\"/>\n",
              "  </svg>\n",
              "      </button>\n",
              "      \n",
              "  <style>\n",
              "    .colab-df-container {\n",
              "      display:flex;\n",
              "      flex-wrap:wrap;\n",
              "      gap: 12px;\n",
              "    }\n",
              "\n",
              "    .colab-df-convert {\n",
              "      background-color: #E8F0FE;\n",
              "      border: none;\n",
              "      border-radius: 50%;\n",
              "      cursor: pointer;\n",
              "      display: none;\n",
              "      fill: #1967D2;\n",
              "      height: 32px;\n",
              "      padding: 0 0 0 0;\n",
              "      width: 32px;\n",
              "    }\n",
              "\n",
              "    .colab-df-convert:hover {\n",
              "      background-color: #E2EBFA;\n",
              "      box-shadow: 0px 1px 2px rgba(60, 64, 67, 0.3), 0px 1px 3px 1px rgba(60, 64, 67, 0.15);\n",
              "      fill: #174EA6;\n",
              "    }\n",
              "\n",
              "    [theme=dark] .colab-df-convert {\n",
              "      background-color: #3B4455;\n",
              "      fill: #D2E3FC;\n",
              "    }\n",
              "\n",
              "    [theme=dark] .colab-df-convert:hover {\n",
              "      background-color: #434B5C;\n",
              "      box-shadow: 0px 1px 3px 1px rgba(0, 0, 0, 0.15);\n",
              "      filter: drop-shadow(0px 1px 2px rgba(0, 0, 0, 0.3));\n",
              "      fill: #FFFFFF;\n",
              "    }\n",
              "  </style>\n",
              "\n",
              "      <script>\n",
              "        const buttonEl =\n",
              "          document.querySelector('#df-c8e69042-2d9c-4851-9035-024db1eb0d9d button.colab-df-convert');\n",
              "        buttonEl.style.display =\n",
              "          google.colab.kernel.accessAllowed ? 'block' : 'none';\n",
              "\n",
              "        async function convertToInteractive(key) {\n",
              "          const element = document.querySelector('#df-c8e69042-2d9c-4851-9035-024db1eb0d9d');\n",
              "          const dataTable =\n",
              "            await google.colab.kernel.invokeFunction('convertToInteractive',\n",
              "                                                     [key], {});\n",
              "          if (!dataTable) return;\n",
              "\n",
              "          const docLinkHtml = 'Like what you see? Visit the ' +\n",
              "            '<a target=\"_blank\" href=https://colab.research.google.com/notebooks/data_table.ipynb>data table notebook</a>'\n",
              "            + ' to learn more about interactive tables.';\n",
              "          element.innerHTML = '';\n",
              "          dataTable['output_type'] = 'display_data';\n",
              "          await google.colab.output.renderOutput(dataTable, element);\n",
              "          const docLink = document.createElement('div');\n",
              "          docLink.innerHTML = docLinkHtml;\n",
              "          element.appendChild(docLink);\n",
              "        }\n",
              "      </script>\n",
              "    </div>\n",
              "  </div>\n",
              "  "
            ]
          },
          "metadata": {},
          "execution_count": 40
        }
      ]
    },
    {
      "cell_type": "code",
      "source": [
        "fig, ax = plt.subplots()\n",
        "fig.canvas.draw()\n",
        "data.ViolationType.value_counts().plot(kind=\"bar\", width=0.3, figsize=(9, 5), color = [\"r\",\"b\",\"g\",\"gray\"])\n",
        "plt.title(\"Male vs Female drivers\")\n",
        "plt.ylabel(\"Number of drivers\", fontsize=14)"
      ],
      "metadata": {
        "colab": {
          "base_uri": "https://localhost:8080/",
          "height": 388
        },
        "id": "pRv2X_9g4Hf2",
        "outputId": "32104c63-c814-4695-9d32-50a7f5b52786"
      },
      "execution_count": null,
      "outputs": [
        {
          "output_type": "execute_result",
          "data": {
            "text/plain": [
              "Text(25.625, 0.5, 'Number of drivers')"
            ]
          },
          "metadata": {},
          "execution_count": 43
        },
        {
          "output_type": "display_data",
          "data": {
            "text/plain": [
              "<Figure size 648x360 with 1 Axes>"
            ],
            "image/png": "[encoded data removed]"
          },
          "metadata": {}
        }
      ]
    },
    {
      "cell_type": "code",
      "source": [
        "pd.crosstab(columns=data['ViolationType'], index='ViolationType', margins=True)"
      ],
      "metadata": {
        "colab": {
          "base_uri": "https://localhost:8080/",
          "height": 150
        },
        "id": "zFUBLAEKC1TK",
        "outputId": "d2bdda60-84e1-4a13-b5f6-512a405db459"
      },
      "execution_count": null,
      "outputs": [
        {
          "output_type": "execute_result",
          "data": {
            "text/plain": [
              "ViolationType  Citation  ESERO  SERO  Warning      All\n",
              "row_0                                                 \n",
              "ViolationType    597478  63807   911   613933  1276129\n",
              "All              597478  63807   911   613933  1276129"
            ],
            "text/html": [
              "\n",
              "  <div id=\"df-82510beb-17db-493f-b50d-b4802096d9a5\">\n",
              "    <div class=\"colab-df-container\">\n",
              "      <div>\n",
              "<style scoped>\n",
              "    .dataframe tbody tr th:only-of-type {\n",
              "        vertical-align: middle;\n",
              "    }\n",
              "\n",
              "    .dataframe tbody tr th {\n",
              "        vertical-align: top;\n",
              "    }\n",
              "\n",
              "    .dataframe thead th {\n",
              "        text-align: right;\n",
              "    }\n",
              "</style>\n",
              "<table border=\"1\" class=\"dataframe\">\n",
              "  <thead>\n",
              "    <tr style=\"text-align: right;\">\n",
              "      <th>ViolationType</th>\n",
              "      <th>Citation</th>\n",
              "      <th>ESERO</th>\n",
              "      <th>SERO</th>\n",
              "      <th>Warning</th>\n",
              "      <th>All</th>\n",
              "    </tr>\n",
              "    <tr>\n",
              "      <th>row_0</th>\n",
              "      <th></th>\n",
              "      <th></th>\n",
              "      <th></th>\n",
              "      <th></th>\n",
              "      <th></th>\n",
              "    </tr>\n",
              "  </thead>\n",
              "  <tbody>\n",
              "    <tr>\n",
              "      <th>ViolationType</th>\n",
              "      <td>597478</td>\n",
              "      <td>63807</td>\n",
              "      <td>911</td>\n",
              "      <td>613933</td>\n",
              "      <td>1276129</td>\n",
              "    </tr>\n",
              "    <tr>\n",
              "      <th>All</th>\n",
              "      <td>597478</td>\n",
              "      <td>63807</td>\n",
              "      <td>911</td>\n",
              "      <td>613933</td>\n",
              "      <td>1276129</td>\n",
              "    </tr>\n",
              "  </tbody>\n",
              "</table>\n",
              "</div>\n",
              "      <button class=\"colab-df-convert\" onclick=\"convertToInteractive('df-82510beb-17db-493f-b50d-b4802096d9a5')\"\n",
              "              title=\"Convert this dataframe to an interactive table.\"\n",
              "              style=\"display:none;\">\n",
              "        \n",
              "  <svg xmlns=\"http://www.w3.org/2000/svg\" height=\"24px\"viewBox=\"0 0 24 24\"\n",
              "       width=\"24px\">\n",
              "    <path d=\"M0 0h24v24H0V0z\" fill=\"none\"/>\n",
              "    <path d=\"M18.56 5.44l.94 2.06.94-2.06 2.06-.94-2.06-.94-.94-2.06-.94 2.06-2.06.94zm-11 1L8.5 8.5l.94-2.06 2.06-.94-2.06-.94L8.5 2.5l-.94 2.06-2.06.94zm10 10l.94 2.06.94-2.06 2.06-.94-2.06-.94-.94-2.06-.94 2.06-2.06.94z\"/><path d=\"M17.41 7.96l-1.37-1.37c-.4-.4-.92-.59-1.43-.59-.52 0-1.04.2-1.43.59L10.3 9.45l-7.72 7.72c-.78.78-.78 2.05 0 2.83L4 21.41c.39.39.9.59 1.41.59.51 0 1.02-.2 1.41-.59l7.78-7.78 2.81-2.81c.8-.78.8-2.07 0-2.86zM5.41 20L4 18.59l7.72-7.72 1.47 1.35L5.41 20z\"/>\n",
              "  </svg>\n",
              "      </button>\n",
              "      \n",
              "  <style>\n",
              "    .colab-df-container {\n",
              "      display:flex;\n",
              "      flex-wrap:wrap;\n",
              "      gap: 12px;\n",
              "    }\n",
              "\n",
              "    .colab-df-convert {\n",
              "      background-color: #E8F0FE;\n",
              "      border: none;\n",
              "      border-radius: 50%;\n",
              "      cursor: pointer;\n",
              "      display: none;\n",
              "      fill: #1967D2;\n",
              "      height: 32px;\n",
              "      padding: 0 0 0 0;\n",
              "      width: 32px;\n",
              "    }\n",
              "\n",
              "    .colab-df-convert:hover {\n",
              "      background-color: #E2EBFA;\n",
              "      box-shadow: 0px 1px 2px rgba(60, 64, 67, 0.3), 0px 1px 3px 1px rgba(60, 64, 67, 0.15);\n",
              "      fill: #174EA6;\n",
              "    }\n",
              "\n",
              "    [theme=dark] .colab-df-convert {\n",
              "      background-color: #3B4455;\n",
              "      fill: #D2E3FC;\n",
              "    }\n",
              "\n",
              "    [theme=dark] .colab-df-convert:hover {\n",
              "      background-color: #434B5C;\n",
              "      box-shadow: 0px 1px 3px 1px rgba(0, 0, 0, 0.15);\n",
              "      filter: drop-shadow(0px 1px 2px rgba(0, 0, 0, 0.3));\n",
              "      fill: #FFFFFF;\n",
              "    }\n",
              "  </style>\n",
              "\n",
              "      <script>\n",
              "        const buttonEl =\n",
              "          document.querySelector('#df-82510beb-17db-493f-b50d-b4802096d9a5 button.colab-df-convert');\n",
              "        buttonEl.style.display =\n",
              "          google.colab.kernel.accessAllowed ? 'block' : 'none';\n",
              "\n",
              "        async function convertToInteractive(key) {\n",
              "          const element = document.querySelector('#df-82510beb-17db-493f-b50d-b4802096d9a5');\n",
              "          const dataTable =\n",
              "            await google.colab.kernel.invokeFunction('convertToInteractive',\n",
              "                                                     [key], {});\n",
              "          if (!dataTable) return;\n",
              "\n",
              "          const docLinkHtml = 'Like what you see? Visit the ' +\n",
              "            '<a target=\"_blank\" href=https://colab.research.google.com/notebooks/data_table.ipynb>data table notebook</a>'\n",
              "            + ' to learn more about interactive tables.';\n",
              "          element.innerHTML = '';\n",
              "          dataTable['output_type'] = 'display_data';\n",
              "          await google.colab.output.renderOutput(dataTable, element);\n",
              "          const docLink = document.createElement('div');\n",
              "          docLink.innerHTML = docLinkHtml;\n",
              "          element.appendChild(docLink);\n",
              "        }\n",
              "      </script>\n",
              "    </div>\n",
              "  </div>\n",
              "  "
            ]
          },
          "metadata": {},
          "execution_count": 44
        }
      ]
    },
    {
      "cell_type": "code",
      "source": [
        "# from the above crosstable we can get the ratio of the citated drivers relative to other categories\n",
        "citation_count = pd.crosstab(columns=data['ViolationType'], index='ViolationType', margins=True)['Citation'][0]\n",
        "violations_count = pd.crosstab(columns=data['ViolationType'], index='ViolationType', margins=True)['All'][0]\n",
        "print(f\"Citation is given to {round(citation_count*100/violations_count)}% of the totally stopped drivers\")"
      ],
      "metadata": {
        "colab": {
          "base_uri": "https://localhost:8080/"
        },
        "id": "QiqdJJE29NPG",
        "outputId": "6d24228a-f14a-4f43-bc61-020760cf2a28"
      },
      "execution_count": null,
      "outputs": [
        {
          "output_type": "stream",
          "name": "stdout",
          "text": [
            "Citation is given to 47% of the totally stopped drivers\n"
          ]
        }
      ]
    },
    {
      "cell_type": "code",
      "source": [
        "#Alcohol based Violation and Results\n",
        "\n",
        "C=data.pivot_table(index='Alcohol',columns='ViolationType', aggfunc='size', fill_value=0)['Citation']\n",
        "W=data.pivot_table(index='Alcohol',columns='ViolationType', aggfunc='size', fill_value=0)['Warning']\n",
        "print(C,W)"
      ],
      "metadata": {
        "colab": {
          "base_uri": "https://localhost:8080/"
        },
        "id": "OekpiEph-M0o",
        "outputId": "10406c1e-dcf5-4cdb-fc94-f0ee219afa8c"
      },
      "execution_count": null,
      "outputs": [
        {
          "output_type": "stream",
          "name": "stdout",
          "text": [
            "Alcohol\n",
            "No     595399\n",
            "Yes      2079\n",
            "Name: Citation, dtype: int64 Alcohol\n",
            "No     613818\n",
            "Yes       115\n",
            "Name: Warning, dtype: int64\n"
          ]
        }
      ]
    },
    {
      "cell_type": "code",
      "source": [
        "fig, ax = plt.subplots()\n",
        "fig.canvas.draw()\n",
        "data.State.value_counts()[:5].plot(kind=\"bar\", width=0.3, figsize=(9, 5), color = [\"r\",\"b\",\"g\",\"gray\",\"black\"])\n",
        "plt.title(\"Top 5 State based Driver Count\")\n",
        "plt.ylabel(\"Number of drivers\", fontsize=14)"
      ],
      "metadata": {
        "colab": {
          "base_uri": "https://localhost:8080/",
          "height": 361
        },
        "id": "uB-ba1E8_XqW",
        "outputId": "ac616fb7-587d-476a-a6ec-dacff638a660"
      },
      "execution_count": 91,
      "outputs": [
        {
          "output_type": "execute_result",
          "data": {
            "text/plain": [
              "Text(25.625, 0.5, 'Number of drivers')"
            ]
          },
          "metadata": {},
          "execution_count": 91
        },
        {
          "output_type": "display_data",
          "data": {
            "text/plain": [
              "<Figure size 648x360 with 1 Axes>"
            ],
            "image/png": "[encoded data removed]"
          },
          "metadata": {}
        }
      ]
    },
    {
      "cell_type": "code",
      "source": [
        "print(\"State wise examined driver Count\")\n",
        "Statedata=data.value_counts([\"State\"])\n",
        "Statedata_df=Statedata.to_frame()[:5]\n",
        "Statedata_df"
      ],
      "metadata": {
        "colab": {
          "base_uri": "https://localhost:8080/",
          "height": 232
        },
        "id": "X60cpcXMFA3p",
        "outputId": "87d7b510-3768-4f28-d168-4ea27c67a21c"
      },
      "execution_count": 90,
      "outputs": [
        {
          "output_type": "stream",
          "name": "stdout",
          "text": [
            "State wise examined driver Count\n"
          ]
        },
        {
          "output_type": "execute_result",
          "data": {
            "text/plain": [
              "             0\n",
              "State         \n",
              "MD     1123544\n",
              "VA       53438\n",
              "DC       32168\n",
              "PA        9185\n",
              "FL        5811"
            ],
            "text/html": [
              "\n",
              "  <div id=\"df-3ad28209-a49a-4175-a8eb-f4ecda9b6960\">\n",
              "    <div class=\"colab-df-container\">\n",
              "      <div>\n",
              "<style scoped>\n",
              "    .dataframe tbody tr th:only-of-type {\n",
              "        vertical-align: middle;\n",
              "    }\n",
              "\n",
              "    .dataframe tbody tr th {\n",
              "        vertical-align: top;\n",
              "    }\n",
              "\n",
              "    .dataframe thead th {\n",
              "        text-align: right;\n",
              "    }\n",
              "</style>\n",
              "<table border=\"1\" class=\"dataframe\">\n",
              "  <thead>\n",
              "    <tr style=\"text-align: right;\">\n",
              "      <th></th>\n",
              "      <th>0</th>\n",
              "    </tr>\n",
              "    <tr>\n",
              "      <th>State</th>\n",
              "      <th></th>\n",
              "    </tr>\n",
              "  </thead>\n",
              "  <tbody>\n",
              "    <tr>\n",
              "      <th>MD</th>\n",
              "      <td>1123544</td>\n",
              "    </tr>\n",
              "    <tr>\n",
              "      <th>VA</th>\n",
              "      <td>53438</td>\n",
              "    </tr>\n",
              "    <tr>\n",
              "      <th>DC</th>\n",
              "      <td>32168</td>\n",
              "    </tr>\n",
              "    <tr>\n",
              "      <th>PA</th>\n",
              "      <td>9185</td>\n",
              "    </tr>\n",
              "    <tr>\n",
              "      <th>FL</th>\n",
              "      <td>5811</td>\n",
              "    </tr>\n",
              "  </tbody>\n",
              "</table>\n",
              "</div>\n",
              "      <button class=\"colab-df-convert\" onclick=\"convertToInteractive('df-3ad28209-a49a-4175-a8eb-f4ecda9b6960')\"\n",
              "              title=\"Convert this dataframe to an interactive table.\"\n",
              "              style=\"display:none;\">\n",
              "        \n",
              "  <svg xmlns=\"http://www.w3.org/2000/svg\" height=\"24px\"viewBox=\"0 0 24 24\"\n",
              "       width=\"24px\">\n",
              "    <path d=\"M0 0h24v24H0V0z\" fill=\"none\"/>\n",
              "    <path d=\"M18.56 5.44l.94 2.06.94-2.06 2.06-.94-2.06-.94-.94-2.06-.94 2.06-2.06.94zm-11 1L8.5 8.5l.94-2.06 2.06-.94-2.06-.94L8.5 2.5l-.94 2.06-2.06.94zm10 10l.94 2.06.94-2.06 2.06-.94-2.06-.94-.94-2.06-.94 2.06-2.06.94z\"/><path d=\"M17.41 7.96l-1.37-1.37c-.4-.4-.92-.59-1.43-.59-.52 0-1.04.2-1.43.59L10.3 9.45l-7.72 7.72c-.78.78-.78 2.05 0 2.83L4 21.41c.39.39.9.59 1.41.59.51 0 1.02-.2 1.41-.59l7.78-7.78 2.81-2.81c.8-.78.8-2.07 0-2.86zM5.41 20L4 18.59l7.72-7.72 1.47 1.35L5.41 20z\"/>\n",
              "  </svg>\n",
              "      </button>\n",
              "      \n",
              "  <style>\n",
              "    .colab-df-container {\n",
              "      display:flex;\n",
              "      flex-wrap:wrap;\n",
              "      gap: 12px;\n",
              "    }\n",
              "\n",
              "    .colab-df-convert {\n",
              "      background-color: #E8F0FE;\n",
              "      border: none;\n",
              "      border-radius: 50%;\n",
              "      cursor: pointer;\n",
              "      display: none;\n",
              "      fill: #1967D2;\n",
              "      height: 32px;\n",
              "      padding: 0 0 0 0;\n",
              "      width: 32px;\n",
              "    }\n",
              "\n",
              "    .colab-df-convert:hover {\n",
              "      background-color: #E2EBFA;\n",
              "      box-shadow: 0px 1px 2px rgba(60, 64, 67, 0.3), 0px 1px 3px 1px rgba(60, 64, 67, 0.15);\n",
              "      fill: #174EA6;\n",
              "    }\n",
              "\n",
              "    [theme=dark] .colab-df-convert {\n",
              "      background-color: #3B4455;\n",
              "      fill: #D2E3FC;\n",
              "    }\n",
              "\n",
              "    [theme=dark] .colab-df-convert:hover {\n",
              "      background-color: #434B5C;\n",
              "      box-shadow: 0px 1px 3px 1px rgba(0, 0, 0, 0.15);\n",
              "      filter: drop-shadow(0px 1px 2px rgba(0, 0, 0, 0.3));\n",
              "      fill: #FFFFFF;\n",
              "    }\n",
              "  </style>\n",
              "\n",
              "      <script>\n",
              "        const buttonEl =\n",
              "          document.querySelector('#df-3ad28209-a49a-4175-a8eb-f4ecda9b6960 button.colab-df-convert');\n",
              "        buttonEl.style.display =\n",
              "          google.colab.kernel.accessAllowed ? 'block' : 'none';\n",
              "\n",
              "        async function convertToInteractive(key) {\n",
              "          const element = document.querySelector('#df-3ad28209-a49a-4175-a8eb-f4ecda9b6960');\n",
              "          const dataTable =\n",
              "            await google.colab.kernel.invokeFunction('convertToInteractive',\n",
              "                                                     [key], {});\n",
              "          if (!dataTable) return;\n",
              "\n",
              "          const docLinkHtml = 'Like what you see? Visit the ' +\n",
              "            '<a target=\"_blank\" href=https://colab.research.google.com/notebooks/data_table.ipynb>data table notebook</a>'\n",
              "            + ' to learn more about interactive tables.';\n",
              "          element.innerHTML = '';\n",
              "          dataTable['output_type'] = 'display_data';\n",
              "          await google.colab.output.renderOutput(dataTable, element);\n",
              "          const docLink = document.createElement('div');\n",
              "          docLink.innerHTML = docLinkHtml;\n",
              "          element.appendChild(docLink);\n",
              "        }\n",
              "      </script>\n",
              "    </div>\n",
              "  </div>\n",
              "  "
            ]
          },
          "metadata": {},
          "execution_count": 90
        }
      ]
    },
    {
      "cell_type": "code",
      "source": [
        "fig, ax = plt.subplots()\n",
        "fig.canvas.draw()\n",
        "data.DriverCity.value_counts()[:3].plot(kind=\"bar\", width=0.3, figsize=(9, 5), color = [\"r\",\"b\",\"g\"])\n",
        "plt.title(\"Top 3 City based Count\")\n",
        "plt.ylabel(\"Number of drivers\", fontsize=14)"
      ],
      "metadata": {
        "colab": {
          "base_uri": "https://localhost:8080/",
          "height": 430
        },
        "id": "EpljziYK_qEp",
        "outputId": "1b8abaed-a462-4f1b-cd23-1c9f0f724b57"
      },
      "execution_count": 84,
      "outputs": [
        {
          "output_type": "execute_result",
          "data": {
            "text/plain": [
              "Text(25.625, 0.5, 'Number of drivers')"
            ]
          },
          "metadata": {},
          "execution_count": 84
        },
        {
          "output_type": "display_data",
          "data": {
            "text/plain": [
              "<Figure size 648x360 with 1 Axes>"
            ],
            "image/png": "[encoded data removed]"
          },
          "metadata": {}
        }
      ]
    },
    {
      "cell_type": "code",
      "source": [
        "print(\"Maryland's Traffic Violation Hotspots\")\n",
        "Citydata=data.value_counts([\"State\", \"DriverCity\"])\n",
        "Citydata_df=Citydata.to_frame()[:3]\n",
        "Citydata_df"
      ],
      "metadata": {
        "colab": {
          "base_uri": "https://localhost:8080/",
          "height": 189
        },
        "id": "dzfLpyoMAMuW",
        "outputId": "cb976843-01f8-45c4-ebde-4449fac2932a"
      },
      "execution_count": 85,
      "outputs": [
        {
          "output_type": "stream",
          "name": "stdout",
          "text": [
            "Maryland's Traffic Violation Hotspots\n"
          ]
        },
        {
          "output_type": "execute_result",
          "data": {
            "text/plain": [
              "                          0\n",
              "State DriverCity           \n",
              "MD    SILVER SPRING  298710\n",
              "      GAITHERSBURG   124763\n",
              "      GERMANTOWN      99603"
            ],
            "text/html": [
              "\n",
              "  <div id=\"df-d7e51a70-4c8d-4141-ad83-b9336b0741bf\">\n",
              "    <div class=\"colab-df-container\">\n",
              "      <div>\n",
              "<style scoped>\n",
              "    .dataframe tbody tr th:only-of-type {\n",
              "        vertical-align: middle;\n",
              "    }\n",
              "\n",
              "    .dataframe tbody tr th {\n",
              "        vertical-align: top;\n",
              "    }\n",
              "\n",
              "    .dataframe thead th {\n",
              "        text-align: right;\n",
              "    }\n",
              "</style>\n",
              "<table border=\"1\" class=\"dataframe\">\n",
              "  <thead>\n",
              "    <tr style=\"text-align: right;\">\n",
              "      <th></th>\n",
              "      <th></th>\n",
              "      <th>0</th>\n",
              "    </tr>\n",
              "    <tr>\n",
              "      <th>State</th>\n",
              "      <th>DriverCity</th>\n",
              "      <th></th>\n",
              "    </tr>\n",
              "  </thead>\n",
              "  <tbody>\n",
              "    <tr>\n",
              "      <th rowspan=\"3\" valign=\"top\">MD</th>\n",
              "      <th>SILVER SPRING</th>\n",
              "      <td>298710</td>\n",
              "    </tr>\n",
              "    <tr>\n",
              "      <th>GAITHERSBURG</th>\n",
              "      <td>124763</td>\n",
              "    </tr>\n",
              "    <tr>\n",
              "      <th>GERMANTOWN</th>\n",
              "      <td>99603</td>\n",
              "    </tr>\n",
              "  </tbody>\n",
              "</table>\n",
              "</div>\n",
              "      <button class=\"colab-df-convert\" onclick=\"convertToInteractive('df-d7e51a70-4c8d-4141-ad83-b9336b0741bf')\"\n",
              "              title=\"Convert this dataframe to an interactive table.\"\n",
              "              style=\"display:none;\">\n",
              "        \n",
              "  <svg xmlns=\"http://www.w3.org/2000/svg\" height=\"24px\"viewBox=\"0 0 24 24\"\n",
              "       width=\"24px\">\n",
              "    <path d=\"M0 0h24v24H0V0z\" fill=\"none\"/>\n",
              "    <path d=\"M18.56 5.44l.94 2.06.94-2.06 2.06-.94-2.06-.94-.94-2.06-.94 2.06-2.06.94zm-11 1L8.5 8.5l.94-2.06 2.06-.94-2.06-.94L8.5 2.5l-.94 2.06-2.06.94zm10 10l.94 2.06.94-2.06 2.06-.94-2.06-.94-.94-2.06-.94 2.06-2.06.94z\"/><path d=\"M17.41 7.96l-1.37-1.37c-.4-.4-.92-.59-1.43-.59-.52 0-1.04.2-1.43.59L10.3 9.45l-7.72 7.72c-.78.78-.78 2.05 0 2.83L4 21.41c.39.39.9.59 1.41.59.51 0 1.02-.2 1.41-.59l7.78-7.78 2.81-2.81c.8-.78.8-2.07 0-2.86zM5.41 20L4 18.59l7.72-7.72 1.47 1.35L5.41 20z\"/>\n",
              "  </svg>\n",
              "      </button>\n",
              "      \n",
              "  <style>\n",
              "    .colab-df-container {\n",
              "      display:flex;\n",
              "      flex-wrap:wrap;\n",
              "      gap: 12px;\n",
              "    }\n",
              "\n",
              "    .colab-df-convert {\n",
              "      background-color: #E8F0FE;\n",
              "      border: none;\n",
              "      border-radius: 50%;\n",
              "      cursor: pointer;\n",
              "      display: none;\n",
              "      fill: #1967D2;\n",
              "      height: 32px;\n",
              "      padding: 0 0 0 0;\n",
              "      width: 32px;\n",
              "    }\n",
              "\n",
              "    .colab-df-convert:hover {\n",
              "      background-color: #E2EBFA;\n",
              "      box-shadow: 0px 1px 2px rgba(60, 64, 67, 0.3), 0px 1px 3px 1px rgba(60, 64, 67, 0.15);\n",
              "      fill: #174EA6;\n",
              "    }\n",
              "\n",
              "    [theme=dark] .colab-df-convert {\n",
              "      background-color: #3B4455;\n",
              "      fill: #D2E3FC;\n",
              "    }\n",
              "\n",
              "    [theme=dark] .colab-df-convert:hover {\n",
              "      background-color: #434B5C;\n",
              "      box-shadow: 0px 1px 3px 1px rgba(0, 0, 0, 0.15);\n",
              "      filter: drop-shadow(0px 1px 2px rgba(0, 0, 0, 0.3));\n",
              "      fill: #FFFFFF;\n",
              "    }\n",
              "  </style>\n",
              "\n",
              "      <script>\n",
              "        const buttonEl =\n",
              "          document.querySelector('#df-d7e51a70-4c8d-4141-ad83-b9336b0741bf button.colab-df-convert');\n",
              "        buttonEl.style.display =\n",
              "          google.colab.kernel.accessAllowed ? 'block' : 'none';\n",
              "\n",
              "        async function convertToInteractive(key) {\n",
              "          const element = document.querySelector('#df-d7e51a70-4c8d-4141-ad83-b9336b0741bf');\n",
              "          const dataTable =\n",
              "            await google.colab.kernel.invokeFunction('convertToInteractive',\n",
              "                                                     [key], {});\n",
              "          if (!dataTable) return;\n",
              "\n",
              "          const docLinkHtml = 'Like what you see? Visit the ' +\n",
              "            '<a target=\"_blank\" href=https://colab.research.google.com/notebooks/data_table.ipynb>data table notebook</a>'\n",
              "            + ' to learn more about interactive tables.';\n",
              "          element.innerHTML = '';\n",
              "          dataTable['output_type'] = 'display_data';\n",
              "          await google.colab.output.renderOutput(dataTable, element);\n",
              "          const docLink = document.createElement('div');\n",
              "          docLink.innerHTML = docLinkHtml;\n",
              "          element.appendChild(docLink);\n",
              "        }\n",
              "      </script>\n",
              "    </div>\n",
              "  </div>\n",
              "  "
            ]
          },
          "metadata": {},
          "execution_count": 85
        }
      ]
    }
  ]
}