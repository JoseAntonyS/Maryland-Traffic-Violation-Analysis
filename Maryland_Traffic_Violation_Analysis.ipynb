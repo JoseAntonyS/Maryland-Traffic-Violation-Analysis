{
  "nbformat": 4,
  "nbformat_minor": 0,
  "metadata": {
    "colab": {
      "provenance": [],
      "collapsed_sections": []
    },
    "kernelspec": {
      "name": "python3",
      "display_name": "Python 3"
    },
    "accelerator": "GPU"
  },
  "cells": [
    {
      "cell_type": "markdown",
      "source": [
        "# Assignment 2"
      ],
      "metadata": {
        "id": "ORB6EXJvPpzR"
      }
    },
    {
      "cell_type": "code",
      "source": [
        "import pandas as pd\n",
        "import matplotlib.pyplot as plt\n",
        "import seaborn as sns\n",
        "%matplotlib inline\n",
        "plt.rc('font', size = 11)\n",
        "sns.set_style('darkgrid')"
      ],
      "metadata": {
        "id": "7uE_mTRaPtO5"
      },
      "execution_count": 90,
      "outputs": []
    },
    {
      "cell_type": "code",
      "source": [
        "data = pd.read_csv(\"/content/Traffic_Violations.csv\")"
      ],
      "metadata": {
        "colab": {
          "base_uri": "https://localhost:8080/"
        },
        "id": "A9EFt9_MwJ6u",
        "outputId": "0e0f97aa-a770-4fd6-efa2-6e6c71fe9ccf"
      },
      "execution_count": 91,
      "outputs": [
        {
          "output_type": "stream",
          "name": "stderr",
          "text": [
            "/usr/local/lib/python3.7/dist-packages/IPython/core/interactiveshell.py:3326: DtypeWarning: Columns (26) have mixed types.Specify dtype option on import or set low_memory=False.\n",
            "  exec(code_obj, self.user_global_ns, self.user_ns)\n"
          ]
        }
      ]
    },
    {
      "cell_type": "code",
      "source": [
        "data.head()"
      ],
      "metadata": {
        "id": "tiMAftiP0KPk",
        "colab": {
          "base_uri": "https://localhost:8080/",
          "height": 699
        },
        "outputId": "c737a005-ec1a-4faa-c765-504d177e0c16"
      },
      "execution_count": 3,
      "outputs": [
        {
          "output_type": "execute_result",
          "data": {
            "text/plain": [
              "  Date Of Stop Time Of Stop Agency  \\\n",
              "0   09/24/2013     17:11:00    MCP   \n",
              "1   08/29/2017     10:19:00    MCP   \n",
              "2   12/01/2014     12:52:00    MCP   \n",
              "3   08/29/2017     09:22:00    MCP   \n",
              "4   08/28/2017     23:41:00    MCP   \n",
              "\n",
              "                                         SubAgency  \\\n",
              "0                      3rd district, Silver Spring   \n",
              "1                           2nd district, Bethesda   \n",
              "2  6th district, Gaithersburg / Montgomery Village   \n",
              "3                      3rd district, Silver Spring   \n",
              "4  6th district, Gaithersburg / Montgomery Village   \n",
              "\n",
              "                                         Description  \\\n",
              "0  DRIVING VEHICLE ON HIGHWAY WITH SUSPENDED REGI...   \n",
              "1  DRIVER FAILURE TO OBEY PROPERLY PLACED TRAFFIC...   \n",
              "2                 FAILURE STOP AND YIELD AT THRU HWY   \n",
              "3               FAILURE YIELD RIGHT OF WAY ON U TURN   \n",
              "4  FAILURE OF DR. TO MAKE LANE CHANGE TO AVAIL. L...   \n",
              "\n",
              "                                 Location   Latitude  Longitude Accident  \\\n",
              "0                         8804 FLOWER AVE        NaN        NaN       No   \n",
              "1                   WISCONSIN AVE@ ELM ST  38.981725 -77.092757       No   \n",
              "2  CHRISTOPHER AVE/MONTGOMERY VILLAGE AVE  39.162888 -77.229088       No   \n",
              "3         CHERRY HILL RD./CALVERTON BLVD.  39.056975 -76.954633       No   \n",
              "4              355 @ SOUTH WESTLAND DRIVE        NaN        NaN       No   \n",
              "\n",
              "  Belts  ...      Charge                 Article Contributed To Accident  \\\n",
              "0    No  ...   13-401(h)  Transportation Article                      No   \n",
              "1    No  ...  21-201(a1)  Transportation Article                      No   \n",
              "2    No  ...   21-403(b)  Transportation Article                      No   \n",
              "3    No  ...   21-402(b)  Transportation Article                      No   \n",
              "4    No  ...  21-405(e1)  Transportation Article                      No   \n",
              "\n",
              "    Race Gender      Driver City Driver State DL State        Arrest Type  \\\n",
              "0  BLACK      M      TAKOMA PARK           MD       MD  A - Marked Patrol   \n",
              "1  WHITE      F  FAIRFAX STATION           VA       VA  A - Marked Patrol   \n",
              "2  BLACK      F   UPPER MARLBORO           MD       MD  A - Marked Patrol   \n",
              "3  BLACK      M  FORT WASHINGTON           MD       MD  A - Marked Patrol   \n",
              "4  WHITE      M     GAITHERSBURG           MD       MD  A - Marked Patrol   \n",
              "\n",
              "                             Geolocation  \n",
              "0                                    NaN  \n",
              "1         (38.981725, -77.0927566666667)  \n",
              "2  (39.1628883333333, -77.2290883333333)  \n",
              "3         (39.056975, -76.9546333333333)  \n",
              "4                                    NaN  \n",
              "\n",
              "[5 rows x 35 columns]"
            ],
            "text/html": [
              "\n",
              "  <div id=\"df-df0fb8c3-0998-40e9-90fe-f8df4e170ba7\">\n",
              "    <div class=\"colab-df-container\">\n",
              "      <div>\n",
              "<style scoped>\n",
              "    .dataframe tbody tr th:only-of-type {\n",
              "        vertical-align: middle;\n",
              "    }\n",
              "\n",
              "    .dataframe tbody tr th {\n",
              "        vertical-align: top;\n",
              "    }\n",
              "\n",
              "    .dataframe thead th {\n",
              "        text-align: right;\n",
              "    }\n",
              "</style>\n",
              "<table border=\"1\" class=\"dataframe\">\n",
              "  <thead>\n",
              "    <tr style=\"text-align: right;\">\n",
              "      <th></th>\n",
              "      <th>Date Of Stop</th>\n",
              "      <th>Time Of Stop</th>\n",
              "      <th>Agency</th>\n",
              "      <th>SubAgency</th>\n",
              "      <th>Description</th>\n",
              "      <th>Location</th>\n",
              "      <th>Latitude</th>\n",
              "      <th>Longitude</th>\n",
              "      <th>Accident</th>\n",
              "      <th>Belts</th>\n",
              "      <th>...</th>\n",
              "      <th>Charge</th>\n",
              "      <th>Article</th>\n",
              "      <th>Contributed To Accident</th>\n",
              "      <th>Race</th>\n",
              "      <th>Gender</th>\n",
              "      <th>Driver City</th>\n",
              "      <th>Driver State</th>\n",
              "      <th>DL State</th>\n",
              "      <th>Arrest Type</th>\n",
              "      <th>Geolocation</th>\n",
              "    </tr>\n",
              "  </thead>\n",
              "  <tbody>\n",
              "    <tr>\n",
              "      <th>0</th>\n",
              "      <td>09/24/2013</td>\n",
              "      <td>17:11:00</td>\n",
              "      <td>MCP</td>\n",
              "      <td>3rd district, Silver Spring</td>\n",
              "      <td>DRIVING VEHICLE ON HIGHWAY WITH SUSPENDED REGI...</td>\n",
              "      <td>8804 FLOWER AVE</td>\n",
              "      <td>NaN</td>\n",
              "      <td>NaN</td>\n",
              "      <td>No</td>\n",
              "      <td>No</td>\n",
              "      <td>...</td>\n",
              "      <td>13-401(h)</td>\n",
              "      <td>Transportation Article</td>\n",
              "      <td>No</td>\n",
              "      <td>BLACK</td>\n",
              "      <td>M</td>\n",
              "      <td>TAKOMA PARK</td>\n",
              "      <td>MD</td>\n",
              "      <td>MD</td>\n",
              "      <td>A - Marked Patrol</td>\n",
              "      <td>NaN</td>\n",
              "    </tr>\n",
              "    <tr>\n",
              "      <th>1</th>\n",
              "      <td>08/29/2017</td>\n",
              "      <td>10:19:00</td>\n",
              "      <td>MCP</td>\n",
              "      <td>2nd district, Bethesda</td>\n",
              "      <td>DRIVER FAILURE TO OBEY PROPERLY PLACED TRAFFIC...</td>\n",
              "      <td>WISCONSIN AVE@ ELM ST</td>\n",
              "      <td>38.981725</td>\n",
              "      <td>-77.092757</td>\n",
              "      <td>No</td>\n",
              "      <td>No</td>\n",
              "      <td>...</td>\n",
              "      <td>21-201(a1)</td>\n",
              "      <td>Transportation Article</td>\n",
              "      <td>No</td>\n",
              "      <td>WHITE</td>\n",
              "      <td>F</td>\n",
              "      <td>FAIRFAX STATION</td>\n",
              "      <td>VA</td>\n",
              "      <td>VA</td>\n",
              "      <td>A - Marked Patrol</td>\n",
              "      <td>(38.981725, -77.0927566666667)</td>\n",
              "    </tr>\n",
              "    <tr>\n",
              "      <th>2</th>\n",
              "      <td>12/01/2014</td>\n",
              "      <td>12:52:00</td>\n",
              "      <td>MCP</td>\n",
              "      <td>6th district, Gaithersburg / Montgomery Village</td>\n",
              "      <td>FAILURE STOP AND YIELD AT THRU HWY</td>\n",
              "      <td>CHRISTOPHER AVE/MONTGOMERY VILLAGE AVE</td>\n",
              "      <td>39.162888</td>\n",
              "      <td>-77.229088</td>\n",
              "      <td>No</td>\n",
              "      <td>No</td>\n",
              "      <td>...</td>\n",
              "      <td>21-403(b)</td>\n",
              "      <td>Transportation Article</td>\n",
              "      <td>No</td>\n",
              "      <td>BLACK</td>\n",
              "      <td>F</td>\n",
              "      <td>UPPER MARLBORO</td>\n",
              "      <td>MD</td>\n",
              "      <td>MD</td>\n",
              "      <td>A - Marked Patrol</td>\n",
              "      <td>(39.1628883333333, -77.2290883333333)</td>\n",
              "    </tr>\n",
              "    <tr>\n",
              "      <th>3</th>\n",
              "      <td>08/29/2017</td>\n",
              "      <td>09:22:00</td>\n",
              "      <td>MCP</td>\n",
              "      <td>3rd district, Silver Spring</td>\n",
              "      <td>FAILURE YIELD RIGHT OF WAY ON U TURN</td>\n",
              "      <td>CHERRY HILL RD./CALVERTON BLVD.</td>\n",
              "      <td>39.056975</td>\n",
              "      <td>-76.954633</td>\n",
              "      <td>No</td>\n",
              "      <td>No</td>\n",
              "      <td>...</td>\n",
              "      <td>21-402(b)</td>\n",
              "      <td>Transportation Article</td>\n",
              "      <td>No</td>\n",
              "      <td>BLACK</td>\n",
              "      <td>M</td>\n",
              "      <td>FORT WASHINGTON</td>\n",
              "      <td>MD</td>\n",
              "      <td>MD</td>\n",
              "      <td>A - Marked Patrol</td>\n",
              "      <td>(39.056975, -76.9546333333333)</td>\n",
              "    </tr>\n",
              "    <tr>\n",
              "      <th>4</th>\n",
              "      <td>08/28/2017</td>\n",
              "      <td>23:41:00</td>\n",
              "      <td>MCP</td>\n",
              "      <td>6th district, Gaithersburg / Montgomery Village</td>\n",
              "      <td>FAILURE OF DR. TO MAKE LANE CHANGE TO AVAIL. L...</td>\n",
              "      <td>355 @ SOUTH WESTLAND DRIVE</td>\n",
              "      <td>NaN</td>\n",
              "      <td>NaN</td>\n",
              "      <td>No</td>\n",
              "      <td>No</td>\n",
              "      <td>...</td>\n",
              "      <td>21-405(e1)</td>\n",
              "      <td>Transportation Article</td>\n",
              "      <td>No</td>\n",
              "      <td>WHITE</td>\n",
              "      <td>M</td>\n",
              "      <td>GAITHERSBURG</td>\n",
              "      <td>MD</td>\n",
              "      <td>MD</td>\n",
              "      <td>A - Marked Patrol</td>\n",
              "      <td>NaN</td>\n",
              "    </tr>\n",
              "  </tbody>\n",
              "</table>\n",
              "<p>5 rows × 35 columns</p>\n",
              "</div>\n",
              "      <button class=\"colab-df-convert\" onclick=\"convertToInteractive('df-df0fb8c3-0998-40e9-90fe-f8df4e170ba7')\"\n",
              "              title=\"Convert this dataframe to an interactive table.\"\n",
              "              style=\"display:none;\">\n",
              "        \n",
              "  <svg xmlns=\"http://www.w3.org/2000/svg\" height=\"24px\"viewBox=\"0 0 24 24\"\n",
              "       width=\"24px\">\n",
              "    <path d=\"M0 0h24v24H0V0z\" fill=\"none\"/>\n",
              "    <path d=\"M18.56 5.44l.94 2.06.94-2.06 2.06-.94-2.06-.94-.94-2.06-.94 2.06-2.06.94zm-11 1L8.5 8.5l.94-2.06 2.06-.94-2.06-.94L8.5 2.5l-.94 2.06-2.06.94zm10 10l.94 2.06.94-2.06 2.06-.94-2.06-.94-.94-2.06-.94 2.06-2.06.94z\"/><path d=\"M17.41 7.96l-1.37-1.37c-.4-.4-.92-.59-1.43-.59-.52 0-1.04.2-1.43.59L10.3 9.45l-7.72 7.72c-.78.78-.78 2.05 0 2.83L4 21.41c.39.39.9.59 1.41.59.51 0 1.02-.2 1.41-.59l7.78-7.78 2.81-2.81c.8-.78.8-2.07 0-2.86zM5.41 20L4 18.59l7.72-7.72 1.47 1.35L5.41 20z\"/>\n",
              "  </svg>\n",
              "      </button>\n",
              "      \n",
              "  <style>\n",
              "    .colab-df-container {\n",
              "      display:flex;\n",
              "      flex-wrap:wrap;\n",
              "      gap: 12px;\n",
              "    }\n",
              "\n",
              "    .colab-df-convert {\n",
              "      background-color: #E8F0FE;\n",
              "      border: none;\n",
              "      border-radius: 50%;\n",
              "      cursor: pointer;\n",
              "      display: none;\n",
              "      fill: #1967D2;\n",
              "      height: 32px;\n",
              "      padding: 0 0 0 0;\n",
              "      width: 32px;\n",
              "    }\n",
              "\n",
              "    .colab-df-convert:hover {\n",
              "      background-color: #E2EBFA;\n",
              "      box-shadow: 0px 1px 2px rgba(60, 64, 67, 0.3), 0px 1px 3px 1px rgba(60, 64, 67, 0.15);\n",
              "      fill: #174EA6;\n",
              "    }\n",
              "\n",
              "    [theme=dark] .colab-df-convert {\n",
              "      background-color: #3B4455;\n",
              "      fill: #D2E3FC;\n",
              "    }\n",
              "\n",
              "    [theme=dark] .colab-df-convert:hover {\n",
              "      background-color: #434B5C;\n",
              "      box-shadow: 0px 1px 3px 1px rgba(0, 0, 0, 0.15);\n",
              "      filter: drop-shadow(0px 1px 2px rgba(0, 0, 0, 0.3));\n",
              "      fill: #FFFFFF;\n",
              "    }\n",
              "  </style>\n",
              "\n",
              "      <script>\n",
              "        const buttonEl =\n",
              "          document.querySelector('#df-df0fb8c3-0998-40e9-90fe-f8df4e170ba7 button.colab-df-convert');\n",
              "        buttonEl.style.display =\n",
              "          google.colab.kernel.accessAllowed ? 'block' : 'none';\n",
              "\n",
              "        async function convertToInteractive(key) {\n",
              "          const element = document.querySelector('#df-df0fb8c3-0998-40e9-90fe-f8df4e170ba7');\n",
              "          const dataTable =\n",
              "            await google.colab.kernel.invokeFunction('convertToInteractive',\n",
              "                                                     [key], {});\n",
              "          if (!dataTable) return;\n",
              "\n",
              "          const docLinkHtml = 'Like what you see? Visit the ' +\n",
              "            '<a target=\"_blank\" href=https://colab.research.google.com/notebooks/data_table.ipynb>data table notebook</a>'\n",
              "            + ' to learn more about interactive tables.';\n",
              "          element.innerHTML = '';\n",
              "          dataTable['output_type'] = 'display_data';\n",
              "          await google.colab.output.renderOutput(dataTable, element);\n",
              "          const docLink = document.createElement('div');\n",
              "          docLink.innerHTML = docLinkHtml;\n",
              "          element.appendChild(docLink);\n",
              "        }\n",
              "      </script>\n",
              "    </div>\n",
              "  </div>\n",
              "  "
            ]
          },
          "metadata": {},
          "execution_count": 3
        }
      ]
    },
    {
      "cell_type": "code",
      "source": [
        "data.info()"
      ],
      "metadata": {
        "colab": {
          "base_uri": "https://localhost:8080/"
        },
        "id": "lVmKa_IZ0cvb",
        "outputId": "85a7119e-e6e6-4fc1-e1a5-47f99619c8a8"
      },
      "execution_count": 4,
      "outputs": [
        {
          "output_type": "stream",
          "name": "stdout",
          "text": [
            "<class 'pandas.core.frame.DataFrame'>\n",
            "RangeIndex: 1292399 entries, 0 to 1292398\n",
            "Data columns (total 35 columns):\n",
            " #   Column                   Non-Null Count    Dtype  \n",
            "---  ------                   --------------    -----  \n",
            " 0   Date Of Stop             1292399 non-null  object \n",
            " 1   Time Of Stop             1292399 non-null  object \n",
            " 2   Agency                   1292399 non-null  object \n",
            " 3   SubAgency                1292389 non-null  object \n",
            " 4   Description              1292390 non-null  object \n",
            " 5   Location                 1292397 non-null  object \n",
            " 6   Latitude                 1197045 non-null  float64\n",
            " 7   Longitude                1197045 non-null  float64\n",
            " 8   Accident                 1292399 non-null  object \n",
            " 9   Belts                    1292399 non-null  object \n",
            " 10  Personal Injury          1292399 non-null  object \n",
            " 11  Property Damage          1292399 non-null  object \n",
            " 12  Fatal                    1292399 non-null  object \n",
            " 13  Commercial License       1292399 non-null  object \n",
            " 14  HAZMAT                   1292399 non-null  object \n",
            " 15  Commercial Vehicle       1292399 non-null  object \n",
            " 16  Alcohol                  1292399 non-null  object \n",
            " 17  Work Zone                1292399 non-null  object \n",
            " 18  State                    1292340 non-null  object \n",
            " 19  VehicleType              1292399 non-null  object \n",
            " 20  Year                     1284325 non-null  float64\n",
            " 21  Make                     1292342 non-null  object \n",
            " 22  Model                    1292212 non-null  object \n",
            " 23  Color                    1276272 non-null  object \n",
            " 24  Violation Type           1292399 non-null  object \n",
            " 25  Charge                   1292399 non-null  object \n",
            " 26  Article                  1227230 non-null  object \n",
            " 27  Contributed To Accident  1292399 non-null  object \n",
            " 28  Race                     1292399 non-null  object \n",
            " 29  Gender                   1292399 non-null  object \n",
            " 30  Driver City              1292182 non-null  object \n",
            " 31  Driver State             1292388 non-null  object \n",
            " 32  DL State                 1291470 non-null  object \n",
            " 33  Arrest Type              1292399 non-null  object \n",
            " 34  Geolocation              1197045 non-null  object \n",
            "dtypes: float64(3), object(32)\n",
            "memory usage: 345.1+ MB\n"
          ]
        }
      ]
    },
    {
      "cell_type": "code",
      "source": [
        "#get the null value count\n",
        "data.columns = data.columns.str.replace(' ', '')\n",
        "data.isna().sum()"
      ],
      "metadata": {
        "colab": {
          "base_uri": "https://localhost:8080/"
        },
        "id": "hFnBMfFI06hi",
        "outputId": "d716721f-1804-49bf-e1c4-0cc0c1789701"
      },
      "execution_count": 5,
      "outputs": [
        {
          "output_type": "execute_result",
          "data": {
            "text/plain": [
              "DateOfStop                   0\n",
              "TimeOfStop                   0\n",
              "Agency                       0\n",
              "SubAgency                   10\n",
              "Description                  9\n",
              "Location                     2\n",
              "Latitude                 95354\n",
              "Longitude                95354\n",
              "Accident                     0\n",
              "Belts                        0\n",
              "PersonalInjury               0\n",
              "PropertyDamage               0\n",
              "Fatal                        0\n",
              "CommercialLicense            0\n",
              "HAZMAT                       0\n",
              "CommercialVehicle            0\n",
              "Alcohol                      0\n",
              "WorkZone                     0\n",
              "State                       59\n",
              "VehicleType                  0\n",
              "Year                      8074\n",
              "Make                        57\n",
              "Model                      187\n",
              "Color                    16127\n",
              "ViolationType                0\n",
              "Charge                       0\n",
              "Article                  65169\n",
              "ContributedToAccident        0\n",
              "Race                         0\n",
              "Gender                       0\n",
              "DriverCity                 217\n",
              "DriverState                 11\n",
              "DLState                    929\n",
              "ArrestType                   0\n",
              "Geolocation              95354\n",
              "dtype: int64"
            ]
          },
          "metadata": {},
          "execution_count": 5
        }
      ]
    },
    {
      "cell_type": "code",
      "source": [
        "#remove unneccessary columns\n",
        "data.drop(columns = ['Geolocation','Article','Latitude','Longitude','Description','Agency','SubAgency'], inplace=True)"
      ],
      "metadata": {
        "id": "OgzbK9WW2p42"
      },
      "execution_count": 6,
      "outputs": []
    },
    {
      "cell_type": "markdown",
      "source": [
        "# **To calculate the color count**"
      ],
      "metadata": {
        "id": "QcgbbiCq47Y7"
      }
    },
    {
      "cell_type": "code",
      "source": [
        "data.dropna(subset = ['Color'], inplace = True) #remove the null values"
      ],
      "metadata": {
        "id": "2WHs5mm60lJe"
      },
      "execution_count": 7,
      "outputs": []
    },
    {
      "cell_type": "code",
      "source": [
        "data['Color'].isna().sum() "
      ],
      "metadata": {
        "id": "wrdu1cbdQ87N",
        "colab": {
          "base_uri": "https://localhost:8080/"
        },
        "outputId": "e2ec25d6-02a7-45de-8137-f52688e1b9a4"
      },
      "execution_count": 8,
      "outputs": [
        {
          "output_type": "execute_result",
          "data": {
            "text/plain": [
              "0"
            ]
          },
          "metadata": {},
          "execution_count": 8
        }
      ]
    },
    {
      "cell_type": "code",
      "source": [
        "fig , ax = plt.subplots(figsize = (15,10))\n",
        "ax = sns.countplot(x=data.Color, data=data, order = data.Color.value_counts().index,\n",
        "                   linewidth = 0, palette = \"bright\")\n",
        "for i in ax.patches:\n",
        "    percentage = '{:.1f}%'.format(100*i.get_height()/len(data.Color))\n",
        "    x = i.get_x()+i.get_width()-0.6\n",
        "    y = i.get_height()\n",
        "    ax.annotate(percentage, (x, y))\n",
        "plt.title('Color based Traffic Violation ')\n",
        "plt.xlabel(\"Color \")\n",
        "plt.ylabel(\"No. of Violations\")\n",
        "plt.xticks(rotation=90)"
      ],
      "metadata": {
        "colab": {
          "base_uri": "https://localhost:8080/",
          "height": 753
        },
        "id": "-6u5uSAE6QEq",
        "outputId": "51688f47-c1a8-4527-f0ab-2b6d3a8979c4"
      },
      "execution_count": 9,
      "outputs": [
        {
          "output_type": "execute_result",
          "data": {
            "text/plain": [
              "(array([ 0,  1,  2,  3,  4,  5,  6,  7,  8,  9, 10, 11, 12, 13, 14, 15, 16,\n",
              "        17, 18, 19, 20, 21, 22, 23, 24, 25]),\n",
              " <a list of 26 Text major ticklabel objects>)"
            ]
          },
          "metadata": {},
          "execution_count": 9
        },
        {
          "output_type": "display_data",
          "data": {
            "text/plain": [
              "<Figure size 1080x720 with 1 Axes>"
            ],
            "image/png": "[encoded data removed]"
          },
          "metadata": {
            "needs_background": "light"
          }
        }
      ]
    },
    {
      "cell_type": "code",
      "source": [
        "colordata=data.value_counts([\"Color\"]).head(10)\n",
        "print(colordata)"
      ],
      "metadata": {
        "colab": {
          "base_uri": "https://localhost:8080/"
        },
        "id": "mswCIJetB-zP",
        "outputId": "f010f9be-e169-40c8-954d-eea9ff6a0f0b"
      },
      "execution_count": 72,
      "outputs": [
        {
          "output_type": "stream",
          "name": "stdout",
          "text": [
            "Color     \n",
            "BLACK         259460\n",
            "SILVER        236810\n",
            "WHITE         197537\n",
            "GRAY          141078\n",
            "RED           101723\n",
            "BLUE           94798\n",
            "GREEN          49514\n",
            "GOLD           41171\n",
            "BLUE, DARK     27110\n",
            "TAN            27013\n",
            "dtype: int64\n"
          ]
        }
      ]
    },
    {
      "cell_type": "markdown",
      "source": [
        "# To find the most violated Make and Model "
      ],
      "metadata": {
        "id": "FgXyntq_nyhM"
      }
    },
    {
      "cell_type": "code",
      "source": [
        "data.dropna(subset = ['Model','Make'], inplace = True) #remove na"
      ],
      "metadata": {
        "id": "qskjp6rkMqPS"
      },
      "execution_count": 10,
      "outputs": []
    },
    {
      "cell_type": "code",
      "source": [
        "print(data['Model'].isna().sum())\n",
        "print(data['Make'].isna().sum())"
      ],
      "metadata": {
        "colab": {
          "base_uri": "https://localhost:8080/"
        },
        "id": "HW7beiQgUPMN",
        "outputId": "b32d3e56-30fb-4d49-e9f4-003d1b83a6e0"
      },
      "execution_count": 11,
      "outputs": [
        {
          "output_type": "stream",
          "name": "stdout",
          "text": [
            "0\n",
            "0\n"
          ]
        }
      ]
    },
    {
      "cell_type": "code",
      "source": [
        "data['Make'].mask(data['Make'] == 'TOYOT', \"TOYOTA\", inplace=True) #combine the redundant values"
      ],
      "metadata": {
        "id": "q2GO_S4Y4V8d"
      },
      "execution_count": 58,
      "outputs": []
    },
    {
      "cell_type": "code",
      "source": [
        "car_make_data=data.value_counts([\"Make\"])"
      ],
      "metadata": {
        "id": "Jy7BF7bm5K-n"
      },
      "execution_count": 59,
      "outputs": []
    },
    {
      "cell_type": "code",
      "source": [
        "car_make_data.head(15)"
      ],
      "metadata": {
        "colab": {
          "base_uri": "https://localhost:8080/"
        },
        "id": "mQ7Vw1nH8-0E",
        "outputId": "c0d9c7e2-8827-44d5-b139-a56a91f34673"
      },
      "execution_count": 60,
      "outputs": [
        {
          "output_type": "execute_result",
          "data": {
            "text/plain": [
              "Make     \n",
              "TOYOTA       216859\n",
              "HONDA        185722\n",
              "FORD         120801\n",
              "NISSAN        96389\n",
              "CHEV          39472\n",
              "BMW           35340\n",
              "DODGE         34457\n",
              "CHEVY         29772\n",
              "ACURA         28901\n",
              "JEEP          28692\n",
              "CHEVROLET     27190\n",
              "HYUNDAI       23929\n",
              "LEXUS         20301\n",
              "MERZ          19012\n",
              "MAZDA         18396\n",
              "dtype: int64"
            ]
          },
          "metadata": {},
          "execution_count": 60
        }
      ]
    },
    {
      "cell_type": "code",
      "source": [
        "makedata=data.value_counts([\"Make\", \"Model\"])\n",
        "makedata_df=makedata.to_frame()"
      ],
      "metadata": {
        "id": "oEdQDw6SaE1S"
      },
      "execution_count": 68,
      "outputs": []
    },
    {
      "cell_type": "code",
      "source": [
        "makedata_df.head(5)"
      ],
      "metadata": {
        "colab": {
          "base_uri": "https://localhost:8080/",
          "height": 237
        },
        "id": "A71QOBVgb4R_",
        "outputId": "a602a700-4b13-40f5-dbfc-6b60a87e2174"
      },
      "execution_count": 89,
      "outputs": [
        {
          "output_type": "execute_result",
          "data": {
            "text/plain": [
              "                    0\n",
              "Make   Model         \n",
              "HONDA  ACCORD   47040\n",
              "       CIVIC    43929\n",
              "TOYOTA CAMRY    42021\n",
              "       COROLLA  37207\n",
              "       4S       27207"
            ],
            "text/html": [
              "\n",
              "  <div id=\"df-378c4b58-0743-4c1a-929d-ec55e7b078ed\">\n",
              "    <div class=\"colab-df-container\">\n",
              "      <div>\n",
              "<style scoped>\n",
              "    .dataframe tbody tr th:only-of-type {\n",
              "        vertical-align: middle;\n",
              "    }\n",
              "\n",
              "    .dataframe tbody tr th {\n",
              "        vertical-align: top;\n",
              "    }\n",
              "\n",
              "    .dataframe thead th {\n",
              "        text-align: right;\n",
              "    }\n",
              "</style>\n",
              "<table border=\"1\" class=\"dataframe\">\n",
              "  <thead>\n",
              "    <tr style=\"text-align: right;\">\n",
              "      <th></th>\n",
              "      <th></th>\n",
              "      <th>0</th>\n",
              "    </tr>\n",
              "    <tr>\n",
              "      <th>Make</th>\n",
              "      <th>Model</th>\n",
              "      <th></th>\n",
              "    </tr>\n",
              "  </thead>\n",
              "  <tbody>\n",
              "    <tr>\n",
              "      <th rowspan=\"2\" valign=\"top\">HONDA</th>\n",
              "      <th>ACCORD</th>\n",
              "      <td>47040</td>\n",
              "    </tr>\n",
              "    <tr>\n",
              "      <th>CIVIC</th>\n",
              "      <td>43929</td>\n",
              "    </tr>\n",
              "    <tr>\n",
              "      <th rowspan=\"3\" valign=\"top\">TOYOTA</th>\n",
              "      <th>CAMRY</th>\n",
              "      <td>42021</td>\n",
              "    </tr>\n",
              "    <tr>\n",
              "      <th>COROLLA</th>\n",
              "      <td>37207</td>\n",
              "    </tr>\n",
              "    <tr>\n",
              "      <th>4S</th>\n",
              "      <td>27207</td>\n",
              "    </tr>\n",
              "  </tbody>\n",
              "</table>\n",
              "</div>\n",
              "      <button class=\"colab-df-convert\" onclick=\"convertToInteractive('df-378c4b58-0743-4c1a-929d-ec55e7b078ed')\"\n",
              "              title=\"Convert this dataframe to an interactive table.\"\n",
              "              style=\"display:none;\">\n",
              "        \n",
              "  <svg xmlns=\"http://www.w3.org/2000/svg\" height=\"24px\"viewBox=\"0 0 24 24\"\n",
              "       width=\"24px\">\n",
              "    <path d=\"M0 0h24v24H0V0z\" fill=\"none\"/>\n",
              "    <path d=\"M18.56 5.44l.94 2.06.94-2.06 2.06-.94-2.06-.94-.94-2.06-.94 2.06-2.06.94zm-11 1L8.5 8.5l.94-2.06 2.06-.94-2.06-.94L8.5 2.5l-.94 2.06-2.06.94zm10 10l.94 2.06.94-2.06 2.06-.94-2.06-.94-.94-2.06-.94 2.06-2.06.94z\"/><path d=\"M17.41 7.96l-1.37-1.37c-.4-.4-.92-.59-1.43-.59-.52 0-1.04.2-1.43.59L10.3 9.45l-7.72 7.72c-.78.78-.78 2.05 0 2.83L4 21.41c.39.39.9.59 1.41.59.51 0 1.02-.2 1.41-.59l7.78-7.78 2.81-2.81c.8-.78.8-2.07 0-2.86zM5.41 20L4 18.59l7.72-7.72 1.47 1.35L5.41 20z\"/>\n",
              "  </svg>\n",
              "      </button>\n",
              "      \n",
              "  <style>\n",
              "    .colab-df-container {\n",
              "      display:flex;\n",
              "      flex-wrap:wrap;\n",
              "      gap: 12px;\n",
              "    }\n",
              "\n",
              "    .colab-df-convert {\n",
              "      background-color: #E8F0FE;\n",
              "      border: none;\n",
              "      border-radius: 50%;\n",
              "      cursor: pointer;\n",
              "      display: none;\n",
              "      fill: #1967D2;\n",
              "      height: 32px;\n",
              "      padding: 0 0 0 0;\n",
              "      width: 32px;\n",
              "    }\n",
              "\n",
              "    .colab-df-convert:hover {\n",
              "      background-color: #E2EBFA;\n",
              "      box-shadow: 0px 1px 2px rgba(60, 64, 67, 0.3), 0px 1px 3px 1px rgba(60, 64, 67, 0.15);\n",
              "      fill: #174EA6;\n",
              "    }\n",
              "\n",
              "    [theme=dark] .colab-df-convert {\n",
              "      background-color: #3B4455;\n",
              "      fill: #D2E3FC;\n",
              "    }\n",
              "\n",
              "    [theme=dark] .colab-df-convert:hover {\n",
              "      background-color: #434B5C;\n",
              "      box-shadow: 0px 1px 3px 1px rgba(0, 0, 0, 0.15);\n",
              "      filter: drop-shadow(0px 1px 2px rgba(0, 0, 0, 0.3));\n",
              "      fill: #FFFFFF;\n",
              "    }\n",
              "  </style>\n",
              "\n",
              "      <script>\n",
              "        const buttonEl =\n",
              "          document.querySelector('#df-378c4b58-0743-4c1a-929d-ec55e7b078ed button.colab-df-convert');\n",
              "        buttonEl.style.display =\n",
              "          google.colab.kernel.accessAllowed ? 'block' : 'none';\n",
              "\n",
              "        async function convertToInteractive(key) {\n",
              "          const element = document.querySelector('#df-378c4b58-0743-4c1a-929d-ec55e7b078ed');\n",
              "          const dataTable =\n",
              "            await google.colab.kernel.invokeFunction('convertToInteractive',\n",
              "                                                     [key], {});\n",
              "          if (!dataTable) return;\n",
              "\n",
              "          const docLinkHtml = 'Like what you see? Visit the ' +\n",
              "            '<a target=\"_blank\" href=https://colab.research.google.com/notebooks/data_table.ipynb>data table notebook</a>'\n",
              "            + ' to learn more about interactive tables.';\n",
              "          element.innerHTML = '';\n",
              "          dataTable['output_type'] = 'display_data';\n",
              "          await google.colab.output.renderOutput(dataTable, element);\n",
              "          const docLink = document.createElement('div');\n",
              "          docLink.innerHTML = docLinkHtml;\n",
              "          element.appendChild(docLink);\n",
              "        }\n",
              "      </script>\n",
              "    </div>\n",
              "  </div>\n",
              "  "
            ]
          },
          "metadata": {},
          "execution_count": 89
        }
      ]
    },
    {
      "cell_type": "markdown",
      "source": [
        "**Racial Estimation**"
      ],
      "metadata": {
        "id": "Ue-iDv2SH7Ld"
      }
    },
    {
      "cell_type": "code",
      "source": [
        "fig , ax = plt.subplots(figsize = (8,4))\n",
        "ax = sns.countplot(x=data.Race, data=data, order = data.Race.value_counts().index,\n",
        "                   linewidth = 0, palette = \"bright\")\n",
        "for i in ax.patches:\n",
        "    percentage = '{:.1f}%'.format(100*i.get_height()/len(data.Race))\n",
        "    x = i.get_x()+i.get_width()-0.6\n",
        "    y = i.get_height()\n",
        "    ax.annotate(percentage, (x, y))\n",
        "plt.title('Race Based Traffic Violation')\n",
        "plt.xlabel(\"Race\")\n",
        "plt.ylabel(\"Count\")"
      ],
      "metadata": {
        "colab": {
          "base_uri": "https://localhost:8080/",
          "height": 312
        },
        "id": "Vvhxbs6gWHkV",
        "outputId": "55c7791d-0587-4877-d237-8830c7810e81"
      },
      "execution_count": null,
      "outputs": [
        {
          "output_type": "execute_result",
          "data": {
            "text/plain": [
              "Text(0, 0.5, 'Count')"
            ]
          },
          "metadata": {},
          "execution_count": 32
        },
        {
          "output_type": "display_data",
          "data": {
            "text/plain": [
              "<Figure size 576x288 with 1 Axes>"
            ],
            "image/png": "[encoded data removed]"
          },
          "metadata": {}
        }
      ]
    },
    {
      "cell_type": "markdown",
      "source": [
        "**Gender Estimation**"
      ],
      "metadata": {
        "id": "FqL19qr1H_yF"
      }
    },
    {
      "cell_type": "code",
      "source": [
        "fig , ax = plt.subplots(figsize = (8,4))\n",
        "ax = sns.countplot(x=data.Gender, data=data, order = data.Gender.value_counts().index,\n",
        "                   linewidth = 0, palette = \"bright\")\n",
        "for i in ax.patches:\n",
        "    percentage = '{:.1f}%'.format(100*i.get_height()/len(data.Gender))\n",
        "    x = i.get_x()+i.get_width()-0.6\n",
        "    y = i.get_height()\n",
        "    ax.annotate(percentage, (x, y))\n",
        "plt.title('Gender Based Traffic Violation')\n",
        "plt.xlabel(\"Gender\")\n",
        "plt.ylabel(\"Count\")"
      ],
      "metadata": {
        "colab": {
          "base_uri": "https://localhost:8080/",
          "height": 312
        },
        "id": "sMl1s_QAq48m",
        "outputId": "a57bc447-8791-4ead-92dc-fae49e92372d"
      },
      "execution_count": null,
      "outputs": [
        {
          "output_type": "execute_result",
          "data": {
            "text/plain": [
              "Text(0, 0.5, 'Count')"
            ]
          },
          "metadata": {},
          "execution_count": 36
        },
        {
          "output_type": "display_data",
          "data": {
            "text/plain": [
              "<Figure size 576x288 with 1 Axes>"
            ],
            "image/png": "[encoded data removed]"
          },
          "metadata": {}
        }
      ]
    }
  ]
}